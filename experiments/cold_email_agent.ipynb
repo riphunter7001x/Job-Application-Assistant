{
 "cells": [
  {
   "cell_type": "code",
   "execution_count": 2,
   "metadata": {},
   "outputs": [],
   "source": [
    "from src.workflow import State\n",
    "from pathlib import Path\n",
    "jd3  = \"\"\"Introduction\n",
    "IBM Software infuses core business operations with intelligence—from machine learning to generative AI—to help make organizations more responsive, productive, and resilient. IBM Software helps clients put AI into action now to create real value with trust, speed, and confidence across digital labor, IT automation, application modernization, security, and sustainability. Critical to this is the ability to make use of all data, because AI is only as good as the data that fuels it. In most organizations data is spread across multiple clouds, on premises, in private datacenters, and at the edge. IBM’s AI and data platform scales and accelerates the impact of AI with trusted data, and provides leading capabilities to train, tune and deploy AI across business. IBM’s hybrid cloud platform is one of the most comprehensive and consistent approach to development, security, and operations across hybrid environments—a flexible foundation for leveraging data, wherever it resides, to extend AI deep into a business.\n",
    " \n",
    "\n",
    "Your role and responsibilities\n",
    "Design, develop, and optimize applications using Python or Go with a focus on AI and ML-driven functionalities. Work with frameworks like Langchain, Langgraph, and Langsmith to build advanced language processing solutions. Implement and manage Kubernetes operators to support scalable, distributed systems. Develop and enhance Retrieval-Augmented Generation (RAG) workflows, including optimization for performance and accuracy. Research, design, and implement Machine Learning, Deep Learning, and Neural Network models to solve complex problems. Apply advanced techniques in Natural Language Processing (NLP) to enhance system capabilities. Collaborate with cross-functional teams to integrate AI/ML solutions into existing products and platforms. Stay updated on the latest trends in AI/ML and cloud-native technologies to ensure the use of best practices.\n",
    "\n",
    "Required education\n",
    "Bachelor's Degree\n",
    "Preferred education\n",
    "Master's Degree\n",
    "Required technical and professional expertise\n",
    "2+ years of experience.\n",
    "Hands-on experience with Langchain, Langgraph, or Langsmith frameworks. \n",
    "Solid understanding of Kubernetes operators and their deployment. \n",
    "Strong expertise in Machine Learning, Deep Learning, and Neural Networks. \n",
    "Proficiency in Natural Language Processing (NLP) and related libraries. \n",
    "Knowledge of Retrieval-Augmented Generation (RAG) workflows and optimization techniques. \n",
    "Familiarity with cloud-native technologies and distributed systems. \n",
    "Excellent problem-solving skills, a collaborative mindset, and a passion for innovation.\n",
    "Preferred technical and professional experience\n",
    "Prior experience working in AI/ML model optimization or inference pipelines. \n",
    "Exposure to containerization tools such as Docker and orchestration platforms like Kubernetes. \n",
    "Familiarity with vector databases and hybrid search solutions.\n",
    "ABOUT BUSINESS UNIT\n",
    "IBM Software infuses core business operations with intelligence—from machine learning to generative AI—to help make organizations more responsive, productive, and resilient. IBM Software helps clients put AI into action now to create real value with trust, speed, and confidence across digital labor, IT automation, application modernization, security, and sustainability. Critical to this is the ability to make use of all data, because AI is only as good as the data that fuels it. In most organizations data is spread across multiple clouds, on premises, in private datacenters, and at the edge. IBM’s AI and data platform scales and accelerates the impact of AI with trusted data, and provides leading capabilities to train, tune and deploy AI across business. IBM’s hybrid cloud platform is one of the most comprehensive and consistent approach to development, security, and operations across hybrid environments—a flexible foundation for leveraging data, wherever it resides, to extend AI deep into a business.\n",
    "YOUR LIFE @ IBM\n",
    "In a world where technology never stands still, we understand that, dedication to our clients success, innovation that matters, and trust and personal responsibility in all our relationships, lives in what we do as IBMers as we strive to be the catalyst that makes the world work better.\n",
    "\n",
    "Being an IBMer means you’ll be able to learn and develop yourself and your career, you’ll be encouraged to be courageous and experiment everyday, all whilst having continuous trust and support in an environment where everyone can thrive whatever their personal or professional background.\n",
    "\n",
    " \n",
    "\n",
    "Our IBMers are growth minded, always staying curious, open to feedback and learning new information and skills to constantly transform themselves and our company. They are trusted to provide on-going feedback to help other IBMers grow, as well as collaborate with colleagues keeping in mind a team focused approach to include different perspectives to drive exceptional outcomes for our customers. The courage our IBMers have to make critical decisions everyday is essential to IBM becoming the catalyst for progress, always embracing challenges with resources they have to hand, a can-do attitude and always striving for an outcome focused approach within everything that they do.\n",
    "\n",
    " \n",
    "\n",
    "Are you ready to be an IBMer?\n",
    "\n",
    "ABOUT IBM\n",
    "IBM’s greatest invention is the IBMer. We believe that through the application of intelligence, reason and science, we can improve business, society and the human condition, bringing the power of an open hybrid cloud and AI strategy to life for our clients and partners around the world.\n",
    "\n",
    " \n",
    "\n",
    "Restlessly reinventing since 1911, we are not only one of the largest corporate organizations in the world, we’re also one of the biggest technology and consulting employers, with many of the Fortune 50 companies relying on the IBM Cloud to run their business. \n",
    "\n",
    " \n",
    "\n",
    "At IBM, we pride ourselves on being an early adopter of artificial intelligence, quantum computing and blockchain. Now it’s time for you to join us on our journey to being a responsible technology innovator and a force for good in the world.\n",
    "\n",
    "OTHER RELEVANT JOB DETAILS\n",
    "When applying to jobs of your interest, we recommend that you do so for those that match your experience and expertise. Our recruiters advise that you apply to not more than 3 roles in a year for the best candidate experience. For additional information about location requirements, please discuss with the recruiter following submission of your application.\"\"\"\n",
    "\n",
    "\n",
    "\n",
    "\n",
    "\n",
    "# Create a new state instance using the State class\n",
    "state = State(\n",
    "    job_description=jd3,\n",
    "    resume_file=Path(\"Aditya_Varpe_AI_Engineer_Resume (5).pdf\")\n",
    ")"
   ]
  },
  {
   "cell_type": "code",
   "execution_count": 3,
   "metadata": {},
   "outputs": [],
   "source": [
    "from src.agents import ATS_Analysis_Agent\n",
    "parser_agent_response = ATS_Analysis_Agent(state)\n"
   ]
  },
  {
   "cell_type": "code",
   "execution_count": 3,
   "metadata": {},
   "outputs": [
    {
     "data": {
      "text/plain": [
       "{'job_description': \"Introduction\\nIBM Software infuses core business operations with intelligence—from machine learning to generative AI—to help make organizations more responsive, productive, and resilient. IBM Software helps clients put AI into action now to create real value with trust, speed, and confidence across digital labor, IT automation, application modernization, security, and sustainability. Critical to this is the ability to make use of all data, because AI is only as good as the data that fuels it. In most organizations data is spread across multiple clouds, on premises, in private datacenters, and at the edge. IBM’s AI and data platform scales and accelerates the impact of AI with trusted data, and provides leading capabilities to train, tune and deploy AI across business. IBM’s hybrid cloud platform is one of the most comprehensive and consistent approach to development, security, and operations across hybrid environments—a flexible foundation for leveraging data, wherever it resides, to extend AI deep into a business.\\n \\n\\nYour role and responsibilities\\nDesign, develop, and optimize applications using Python or Go with a focus on AI and ML-driven functionalities. Work with frameworks like Langchain, Langgraph, and Langsmith to build advanced language processing solutions. Implement and manage Kubernetes operators to support scalable, distributed systems. Develop and enhance Retrieval-Augmented Generation (RAG) workflows, including optimization for performance and accuracy. Research, design, and implement Machine Learning, Deep Learning, and Neural Network models to solve complex problems. Apply advanced techniques in Natural Language Processing (NLP) to enhance system capabilities. Collaborate with cross-functional teams to integrate AI/ML solutions into existing products and platforms. Stay updated on the latest trends in AI/ML and cloud-native technologies to ensure the use of best practices.\\n\\nRequired education\\nBachelor's Degree\\nPreferred education\\nMaster's Degree\\nRequired technical and professional expertise\\n2+ years of experience.\\nHands-on experience with Langchain, Langgraph, or Langsmith frameworks. \\nSolid understanding of Kubernetes operators and their deployment. \\nStrong expertise in Machine Learning, Deep Learning, and Neural Networks. \\nProficiency in Natural Language Processing (NLP) and related libraries. \\nKnowledge of Retrieval-Augmented Generation (RAG) workflows and optimization techniques. \\nFamiliarity with cloud-native technologies and distributed systems. \\nExcellent problem-solving skills, a collaborative mindset, and a passion for innovation.\\nPreferred technical and professional experience\\nPrior experience working in AI/ML model optimization or inference pipelines. \\nExposure to containerization tools such as Docker and orchestration platforms like Kubernetes. \\nFamiliarity with vector databases and hybrid search solutions.\\nABOUT BUSINESS UNIT\\nIBM Software infuses core business operations with intelligence—from machine learning to generative AI—to help make organizations more responsive, productive, and resilient. IBM Software helps clients put AI into action now to create real value with trust, speed, and confidence across digital labor, IT automation, application modernization, security, and sustainability. Critical to this is the ability to make use of all data, because AI is only as good as the data that fuels it. In most organizations data is spread across multiple clouds, on premises, in private datacenters, and at the edge. IBM’s AI and data platform scales and accelerates the impact of AI with trusted data, and provides leading capabilities to train, tune and deploy AI across business. IBM’s hybrid cloud platform is one of the most comprehensive and consistent approach to development, security, and operations across hybrid environments—a flexible foundation for leveraging data, wherever it resides, to extend AI deep into a business.\\nYOUR LIFE @ IBM\\nIn a world where technology never stands still, we understand that, dedication to our clients success, innovation that matters, and trust and personal responsibility in all our relationships, lives in what we do as IBMers as we strive to be the catalyst that makes the world work better.\\n\\nBeing an IBMer means you’ll be able to learn and develop yourself and your career, you’ll be encouraged to be courageous and experiment everyday, all whilst having continuous trust and support in an environment where everyone can thrive whatever their personal or professional background.\\n\\n \\n\\nOur IBMers are growth minded, always staying curious, open to feedback and learning new information and skills to constantly transform themselves and our company. They are trusted to provide on-going feedback to help other IBMers grow, as well as collaborate with colleagues keeping in mind a team focused approach to include different perspectives to drive exceptional outcomes for our customers. The courage our IBMers have to make critical decisions everyday is essential to IBM becoming the catalyst for progress, always embracing challenges with resources they have to hand, a can-do attitude and always striving for an outcome focused approach within everything that they do.\\n\\n \\n\\nAre you ready to be an IBMer?\\n\\nABOUT IBM\\nIBM’s greatest invention is the IBMer. We believe that through the application of intelligence, reason and science, we can improve business, society and the human condition, bringing the power of an open hybrid cloud and AI strategy to life for our clients and partners around the world.\\n\\n \\n\\nRestlessly reinventing since 1911, we are not only one of the largest corporate organizations in the world, we’re also one of the biggest technology and consulting employers, with many of the Fortune 50 companies relying on the IBM Cloud to run their business. \\n\\n \\n\\nAt IBM, we pride ourselves on being an early adopter of artificial intelligence, quantum computing and blockchain. Now it’s time for you to join us on our journey to being a responsible technology innovator and a force for good in the world.\\n\\nOTHER RELEVANT JOB DETAILS\\nWhen applying to jobs of your interest, we recommend that you do so for those that match your experience and expertise. Our recruiters advise that you apply to not more than 3 roles in a year for the best candidate experience. For additional information about location requirements, please discuss with the recruiter following submission of your application.\",\n",
       " 'resume_file': PosixPath('Aditya_Varpe_AI_Engineer_Resume (5).pdf'),\n",
       " 'resume_content': 'Aditya Varpe\\nadi.varpe117@gmail.com | +91 8275200921\\n\\uf092github| \\uf08clinkedin\\nEXPERIENCE\\nIbind Systems Private Limited\\nJul 2024 - Present\\nAI Engineer\\nBengaluru, India\\n• Intelligent Document Management System: Orchestrated an Agentic Workflow using the LangGraph Frame-\\nwork to automate classification, summarization, and data extraction, improving document retrieval accuracy by\\n25%.\\n• Cross-Border Payment AI Solution: Developed an AI-driven fraud detection and compliance automation sys-\\ntem, reducing transaction processing time by 50%.\\n• Regulatory Compliance Automation: Developed a Retrieval-Augmented Generation (RAG) framework, utilizing\\ndata visualization tools to enhance interpretability of RBI guideline insights.\\n• Advanced OCR for Financial Documents: Leveraged fine-tuned Vision-Language Models with MLOps pipelines\\nfor seamless deployment and scalability.\\n• Anti-Money Laundering Detection (Neo4j GraphDB): Built a Neo4j graph database for AML investigations,\\nimproving fraud detection accuracy by 40% through graph-based analytics.\\n• Automated Financial Reporting: Created a finance report generator, integrating dynamic web-based data\\nretrieval and custom inputs to deliver actionable financial insights.\\nDeng Infotech Solutions Pvt. Ltd.\\nJan 2024 - Jun 2024\\nMachine Learning Intern\\nBhopal, India\\n• Developed ML models for intrusion detection and fire alarm systems.\\n• Implemented BERT-based NLP models for academic document classification, achieving 88% accuracy across\\nmultiple research domains.\\n• Built and maintained reusable data integration programs in Python, implementing best practices for code effi-\\nciency and documentation.\\nSKILLS\\nAI Technologies\\nData Cleansing | EDA | Predictive Modeling | Prescriptive Modeling | Machine Learning | Deep Learning |\\nGenerative AI | Agentic AI (LangGraph, CrewAI) | NLP | LLMs | Fine-Tuning LLMs | RAG | Computer Vision\\nTools & Frameworks\\nTensorFlow | PyTorch | scikit-learn | Flask | FastAPI | Docker | Git | GitHub | CI/CD\\nCloud Services\\nAWS | Azure | GCP\\nDatabases\\nMySQL | MongoDB | Vector DB (Pinecone, ChromaDB) | Graph DB (Neo4j)\\nProgramming\\nPython\\nPROȷECTS\\nAI-Powered Banking Assistant | (link)\\n2024\\nTools: Open Source LLM, Groq API (Llama 2), Hugging Face Transformers\\n• Developed AI-powered banking assistant using NLP for smarter interactions and automation.\\n• Enhanced customer support, streamlined operations, and improved user experience in Banking.\\nRoad Safety Sign Detection | (link)\\n2023\\nTools: YOLOv8, TensorFlow, Computer Vision\\n• Implemented a vision-based system for real-time road sign detection, targeting the improvement of road safety\\nand traffic management.\\n• Optimized model for deployment, reducing inference time to 150ms while maintaining detection accuracy.\\nEDUCATION\\nBachelor of Technology (B.Tech) - Artificial Intelligence\\nJun 2020 - Jun 2024\\nG. H. Raisoni College of Engineering and Management\\nPune, India\\nCGPA: 8.79\\nHonors in Data Science\\nJun 2022 - May 2024\\nSavitribai Phule Pune University (SPPU)\\nPune, India\\nCGPA: 8.5\\nCERTIFICATIONS\\n• Neo4j Fundamentals (Neo4j)\\n• SQL Basic & Intermediate (HackerRank)\\n• Python Essentials for MLOps (Coursera)\\n• Certified Peer Counsellor (GHRCEM, Pune)\\n',\n",
       " 'score_and_details': {'company_name': 'IBM',\n",
       "  'job_ID': 'null',\n",
       "  'job_description_match_score': 85,\n",
       "  'missing_keywords': 'Go programming language, Langsmith framework, Hybrid Search Solutions, Vector Databases',\n",
       "  'matching_keywords': 'AI, Machine Learning, Deep Learning, Natural Language Processing, Langchain, Langgraph, Kubernetes, Cloud Native Technologies',\n",
       "  'resume_edit_suggestions': 'To improve the resume, consider adding experience with the Go programming language, Langsmith framework, and hybrid search solutions. Additionally, highlighting knowledge of vector databases and containerization tools like Docker would be beneficial. Emphasize expertise in AI/ML model optimization and inference pipelines, as well as experience with cloud-native technologies and distributed systems.'}}"
      ]
     },
     "execution_count": 3,
     "metadata": {},
     "output_type": "execute_result"
    }
   ],
   "source": [
    "parser_agent_response"
   ]
  },
  {
   "cell_type": "code",
   "execution_count": 5,
   "metadata": {},
   "outputs": [],
   "source": [
    "from src.utils import generate_cold_email\n",
    "def cold_mail_writer_agnet(state):\n",
    "    job_description = state[\"job_description\"]\n",
    "    resume_content = state[\"resume_content\"]\n",
    "\n",
    "    cold_mail = generate_cold_email(resume_content,job_description)\n",
    "    return {\n",
    "        **state,\n",
    "        cold_mail_writer_agnet : cold_mail\n",
    "    }\n",
    "    \n",
    "\n",
    "\n"
   ]
  },
  {
   "cell_type": "code",
   "execution_count": 6,
   "metadata": {},
   "outputs": [],
   "source": [
    "email = cold_mail_writer_agnet(parser_agent_response)"
   ]
  },
  {
   "cell_type": "code",
   "execution_count": 8,
   "metadata": {},
   "outputs": [
    {
     "name": "stdout",
     "output_type": "stream",
     "text": [
      "Dear Hiring Team,\n",
      "I am excited to apply for the AI Engineer position at IBM, where I can utilize my skills in AI and ML to drive business growth.\n",
      "With experience in developing AI-driven solutions, I possess hands-on experience with Langchain and Langgraph frameworks, achieving 25% improvement in document retrieval accuracy and 40% improvement in fraud detection accuracy.\n",
      "I would appreciate the opportunity to discuss my application and how I can contribute to IBM's success. Please find my resume attached below.\n",
      "Best regards, Aditya Varpe\n"
     ]
    }
   ],
   "source": [
    "print(email[\"main_body\"])"
   ]
  },
  {
   "cell_type": "code",
   "execution_count": 9,
   "metadata": {},
   "outputs": [],
   "source": [
    "import webbrowser\n",
    "import urllib.parse\n",
    "\n",
    "def launch_email_client(template, email_list, subject):\n",
    "    \"\"\"\n",
    "    Launches the default web browser with Gmail compose page pre-filled with recipients, subject, and body.\n",
    "    \n",
    "    Parameters:\n",
    "    - template (str): The email body content.\n",
    "    - email_list (list): List of recipient email addresses.\n",
    "    - subject (str): Subject of the email.\n",
    "    \"\"\"\n",
    "    # Convert list of emails to a comma-separated string\n",
    "    recipient_emails = \",\".join(email_list)\n",
    "\n",
    "    # URL encode the subject and body\n",
    "    subject_encoded = urllib.parse.quote(subject)\n",
    "    body_encoded = urllib.parse.quote(template)\n",
    "\n",
    "    # Create Gmail compose URL\n",
    "    gmail_link = f\"https://mail.google.com/mail/?view=cm&fs=1&bcc={recipient_emails}&su={subject_encoded}&body={body_encoded}\"\n",
    "    \n",
    "    # Open Gmail in browser\n",
    "    webbrowser.open(gmail_link)\n",
    "\n",
    "\n",
    "\n",
    "email_list = [\"example1@gmail.com\", \"example2@gmail.com\",\"nishitanaragund188@gmail.com\"]\n",
    "launch_email_client(email[\"main_body\"], email_list, email[\"subject\"])"
   ]
  },
  {
   "cell_type": "code",
   "execution_count": 1,
   "metadata": {},
   "outputs": [],
   "source": []
  }
 ],
 "metadata": {
  "language_info": {
   "name": "python"
  }
 },
 "nbformat": 4,
 "nbformat_minor": 2
}
