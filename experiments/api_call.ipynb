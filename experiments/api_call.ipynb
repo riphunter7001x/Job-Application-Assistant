{
 "cells": [
  {
   "cell_type": "code",
   "execution_count": null,
   "metadata": {},
   "outputs": [
    {
     "name": "stdout",
     "output_type": "stream",
     "text": [
      "{'emails': ['foth@ibis.com'], 'domain': 'ibis.com'}\n"
     ]
    }
   ],
   "source": [
    "import requests  # Corrected the import statement\n",
    "\n",
    "def get_company_info(company_name):\n",
    "    \"\"\"\n",
    "    Fetches company email addresses and domain information from the Hunter.io API.\n",
    "\n",
    "    Args:\n",
    "        company_name (str): The name of the company to search for.\n",
    "\n",
    "    Returns:\n",
    "        tuple: A tuple containing a list of email addresses and the domain if found.\n",
    "        dict: An error message if the company details are not found or if the request fails.\n",
    "    \"\"\"\n",
    "    \n",
    "    if company_name.lower() == \"<not found>\":\n",
    "        return {\"error\": \"Organization details not found!\"}\n",
    "    \n",
    "    url = f\"https://api.hunter.io/v2/domain-search?company={company_name}&api_key=74c44d467a9654bc2530a4c1e93b191fb64627af\"\n",
    "    \n",
    "    try:\n",
    "        response = requests.get(url)  # Corrected \"request\" to \"requests.get(url)\"\n",
    "        response.raise_for_status()  # Raises an HTTPError for bad responses (4xx and 5xx)\n",
    "        \n",
    "        result = response.json()  # Returns the JSON response if the request is successful\n",
    "        \n",
    "        if result[\"data\"][\"domain\"]!=None:\n",
    "            emails = [email[\"value\"] for email in result[\"data\"].get(\"emails\", [])]\n",
    "            domain = result[\"data\"][\"domain\"]\n",
    "            return {\"emails\": emails, \"domain\" : domain} \n",
    "        else:\n",
    "            return {\"error\": \"Organization details not found!\"}\n",
    "    \n",
    "    except requests.exceptions.RequestException as e:\n",
    "        return {\"error\": f\"Request failed: {str(e)}\"}\n",
    "\n",
    "# Example usage:\n",
    "company = \"ibis\"\n",
    "result = get_company_info_agent(company)\n",
    "print(result)\n"
   ]
  },
  {
   "cell_type": "code",
   "execution_count": 4,
   "metadata": {},
   "outputs": [
    {
     "data": {
      "text/plain": [
       "'openai.com'"
      ]
     },
     "execution_count": 4,
     "metadata": {},
     "output_type": "execute_result"
    }
   ],
   "source": [
    "domain = result[\"data\"][\"domain\"]\n",
    "domain"
   ]
  },
  {
   "cell_type": "code",
   "execution_count": 6,
   "metadata": {},
   "outputs": [],
   "source": [
    "emails = result[\"data\"][\"emails\"]"
   ]
  },
  {
   "cell_type": "code",
   "execution_count": null,
   "metadata": {},
   "outputs": [],
   "source": [
    "emails = [email[\"value\"] for email in result[\"data\"][\"emails\"]]"
   ]
  },
  {
   "cell_type": "code",
   "execution_count": 11,
   "metadata": {},
   "outputs": [
    {
     "data": {
      "text/plain": [
       "['mario@openai.com',\n",
       " 'wang@openai.com',\n",
       " 'adrian@openai.com',\n",
       " 'fazal@openai.com',\n",
       " 'lane@openai.com',\n",
       " 'nate@openai.com',\n",
       " 'rosann@openai.com',\n",
       " 'christine@openai.com',\n",
       " 'peter@openai.com',\n",
       " 'sarah@openai.com']"
      ]
     },
     "execution_count": 11,
     "metadata": {},
     "output_type": "execute_result"
    }
   ],
   "source": [
    "emails"
   ]
  },
  {
   "cell_type": "code",
   "execution_count": null,
   "metadata": {},
   "outputs": [],
   "source": []
  }
 ],
 "metadata": {
  "language_info": {
   "name": "python"
  }
 },
 "nbformat": 4,
 "nbformat_minor": 2
}
