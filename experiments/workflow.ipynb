{
 "cells": [
  {
   "cell_type": "code",
   "execution_count": 1,
   "metadata": {},
   "outputs": [
    {
     "name": "stderr",
     "output_type": "stream",
     "text": [
      "2025-03-05 19:33:29,858 - INFO - LLM model initialized successfully.\n"
     ]
    }
   ],
   "source": [
    "from typing_extensions import Annotated, TypedDict, NotRequired, Optional\n",
    "from pathlib import Path\n",
    "from typing import Dict, Any\n",
    "from langgraph.graph import StateGraph, END, START\n",
    "from src.agents import ats_analysis_agent, cold_mail_writer_agent, email_finder_agent\n"
   ]
  },
  {
   "cell_type": "code",
   "execution_count": 2,
   "metadata": {},
   "outputs": [],
   "source": [
    "\n",
    "class AgentState(TypedDict):\n",
    "    job_description: str\n",
    "    resume_file: Path\n",
    "    resume_content: Optional[str]\n",
    "    ats_analysis_agent: Optional[Dict[str, Any]]\n",
    "    email_finder_agent: Optional[Dict[str, Any]]\n",
    "    cold_mail_writer_agent: Optional[Dict[str, Any]]\n"
   ]
  },
  {
   "cell_type": "code",
   "execution_count": 3,
   "metadata": {},
   "outputs": [],
   "source": [
    "\n",
    "workflow = StateGraph(AgentState)\n"
   ]
  },
  {
   "cell_type": "code",
   "execution_count": 5,
   "metadata": {},
   "outputs": [
    {
     "data": {
      "text/plain": [
       "<langgraph.graph.state.StateGraph at 0x7f8054493ca0>"
      ]
     },
     "execution_count": 5,
     "metadata": {},
     "output_type": "execute_result"
    }
   ],
   "source": []
  },
  {
   "cell_type": "code",
   "execution_count": null,
   "metadata": {},
   "outputs": [
    {
     "ename": "ValueError",
     "evalue": "'cold_mail_writer_agent' is already being used as a state key",
     "output_type": "error",
     "traceback": [
      "\u001b[0;31m---------------------------------------------------------------------------\u001b[0m",
      "\u001b[0;31mValueError\u001b[0m                                Traceback (most recent call last)",
      "Cell \u001b[0;32mIn[6], line 1\u001b[0m\n\u001b[0;32m----> 1\u001b[0m \u001b[43mworkflow\u001b[49m\u001b[38;5;241;43m.\u001b[39;49m\u001b[43madd_node\u001b[49m\u001b[43m(\u001b[49m\u001b[38;5;124;43m\"\u001b[39;49m\u001b[38;5;124;43mcold_mail_writer_agent\u001b[39;49m\u001b[38;5;124;43m\"\u001b[39;49m\u001b[43m,\u001b[49m\u001b[43m \u001b[49m\u001b[43mcold_mail_writer_agent\u001b[49m\u001b[43m)\u001b[49m\n\u001b[1;32m      2\u001b[0m workflow\u001b[38;5;241m.\u001b[39madd_node(\u001b[38;5;124m\"\u001b[39m\u001b[38;5;124memail_finder_agent\u001b[39m\u001b[38;5;124m\"\u001b[39m, email_finder_agent)\n",
      "File \u001b[0;32m/home/zeus/miniconda3/envs/cloudspace/lib/python3.10/site-packages/langgraph/graph/state.py:341\u001b[0m, in \u001b[0;36mStateGraph.add_node\u001b[0;34m(self, node, action, metadata, input, retry, destinations)\u001b[0m\n\u001b[1;32m    337\u001b[0m         \u001b[38;5;28;01mraise\u001b[39;00m \u001b[38;5;167;01mValueError\u001b[39;00m(\n\u001b[1;32m    338\u001b[0m             \u001b[38;5;124m\"\u001b[39m\u001b[38;5;124mNode name must be provided if action is not a function\u001b[39m\u001b[38;5;124m\"\u001b[39m\n\u001b[1;32m    339\u001b[0m         )\n\u001b[1;32m    340\u001b[0m \u001b[38;5;28;01mif\u001b[39;00m node \u001b[38;5;129;01min\u001b[39;00m \u001b[38;5;28mself\u001b[39m\u001b[38;5;241m.\u001b[39mchannels:\n\u001b[0;32m--> 341\u001b[0m     \u001b[38;5;28;01mraise\u001b[39;00m \u001b[38;5;167;01mValueError\u001b[39;00m(\u001b[38;5;124mf\u001b[39m\u001b[38;5;124m\"\u001b[39m\u001b[38;5;124m'\u001b[39m\u001b[38;5;132;01m{\u001b[39;00mnode\u001b[38;5;132;01m}\u001b[39;00m\u001b[38;5;124m'\u001b[39m\u001b[38;5;124m is already being used as a state key\u001b[39m\u001b[38;5;124m\"\u001b[39m)\n\u001b[1;32m    342\u001b[0m \u001b[38;5;28;01mif\u001b[39;00m \u001b[38;5;28mself\u001b[39m\u001b[38;5;241m.\u001b[39mcompiled:\n\u001b[1;32m    343\u001b[0m     logger\u001b[38;5;241m.\u001b[39mwarning(\n\u001b[1;32m    344\u001b[0m         \u001b[38;5;124m\"\u001b[39m\u001b[38;5;124mAdding a node to a graph that has already been compiled. This will \u001b[39m\u001b[38;5;124m\"\u001b[39m\n\u001b[1;32m    345\u001b[0m         \u001b[38;5;124m\"\u001b[39m\u001b[38;5;124mnot be reflected in the compiled graph.\u001b[39m\u001b[38;5;124m\"\u001b[39m\n\u001b[1;32m    346\u001b[0m     )\n",
      "\u001b[0;31mValueError\u001b[0m: 'cold_mail_writer_agent' is already being used as a state key"
     ]
    }
   ],
   "source": [
    "\n"
   ]
  },
  {
   "cell_type": "code",
   "execution_count": null,
   "metadata": {},
   "outputs": [],
   "source": [
    "\n",
    "# demo example\n",
    "# state = AgentState(\n",
    "#     job_description=jd3,\n",
    "#     resume_file=Path(\"Aditya_Varpe_AI_Engineer_Resume (5).pdf\")\n",
    "# )\n",
    "\n",
    "\n",
    "# Connect agents with edges\n",
    "workflow.add_edge(START, \"ats_analysis_agent\")\n",
    "workflow.add_edge(\"ats_analysis_agent\", \"cold_mail_writer_agent\")\n",
    "workflow.add_edge(\"cold_mail_writer_agent\", \"email_finder_agent\")\n",
    "workflow.add_edge(\"email_finder_agent\", END)\n",
    "\n",
    "\n",
    "# Compile the graph\n",
    "graph = workflow.compile()"
   ]
  },
  {
   "cell_type": "code",
   "execution_count": null,
   "metadata": {},
   "outputs": [
    {
     "name": "stderr",
     "output_type": "stream",
     "text": [
      "2025-03-05 19:47:04,099 - INFO - LLM model initialized successfully.\n"
     ]
    }
   ],
   "source": [
    "from src.workflow import AgentState,graph\n",
    "from pathlib import Path"
   ]
  },
  {
   "cell_type": "code",
   "execution_count": 2,
   "metadata": {},
   "outputs": [],
   "source": [
    "\n",
    "\n",
    "jd = \"\"\"Introduction\n",
    "IBM Software infuses core business operations with intelligence—from machine learning to generative AI—to help make organizations more responsive, productive, and resilient. IBM Software helps clients put AI into action now to create real value with trust, speed, and confidence across digital labor, IT automation, application modernization, security, and sustainability. Critical to this is the ability to make use of all data, because AI is only as good as the data that fuels it. In most organizations data is spread across multiple clouds, on premises, in private datacenters, and at the edge. IBM’s AI and data platform scales and accelerates the impact of AI with trusted data, and provides leading capabilities to train, tune and deploy AI across business. IBM’s hybrid cloud platform is one of the most comprehensive and consistent approach to development, security, and operations across hybrid environments—a flexible foundation for leveraging data, wherever it resides, to extend AI deep into a business.\n",
    " \n",
    "\n",
    "Your role and responsibilities\n",
    "Design, develop, and optimize applications using Python or Go with a focus on AI and ML-driven functionalities. Work with frameworks like Langchain, Langgraph, and Langsmith to build advanced language processing solutions. Implement and manage Kubernetes operators to support scalable, distributed systems. Develop and enhance Retrieval-Augmented Generation (RAG) workflows, including optimization for performance and accuracy. Research, design, and implement Machine Learning, Deep Learning, and Neural Network models to solve complex problems. Apply advanced techniques in Natural Language Processing (NLP) to enhance system capabilities. Collaborate with cross-functional teams to integrate AI/ML solutions into existing products and platforms. Stay updated on the latest trends in AI/ML and cloud-native technologies to ensure the use of best practices.\n",
    "\n",
    "Required education\n",
    "Bachelor's Degree\n",
    "Preferred education\n",
    "Master's Degree\n",
    "Required technical and professional expertise\n",
    "2+ years of experience.\n",
    "Hands-on experience with Langchain, Langgraph, or Langsmith frameworks. \n",
    "Solid understanding of Kubernetes operators and their deployment. \n",
    "Strong expertise in Machine Learning, Deep Learning, and Neural Networks. \n",
    "Proficiency in Natural Language Processing (NLP) and related libraries. \n",
    "Knowledge of Retrieval-Augmented Generation (RAG) workflows and optimization techniques. \n",
    "Familiarity with cloud-native technologies and distributed systems. \n",
    "Excellent problem-solving skills, a collaborative mindset, and a passion for innovation.\n",
    "Preferred technical and professional experience\n",
    "Prior experience working in AI/ML model optimization or inference pipelines. \n",
    "Exposure to containerization tools such as Docker and orchestration platforms like Kubernetes. \n",
    "Familiarity with vector databases and hybrid search solutions.\n",
    "ABOUT BUSINESS UNIT\n",
    "IBM Software infuses core business operations with intelligence—from machine learning to generative AI—to help make organizations more responsive, productive, and resilient. IBM Software helps clients put AI into action now to create real value with trust, speed, and confidence across digital labor, IT automation, application modernization, security, and sustainability. Critical to this is the ability to make use of all data, because AI is only as good as the data that fuels it. In most organizations data is spread across multiple clouds, on premises, in private datacenters, and at the edge. IBM’s AI and data platform scales and accelerates the impact of AI with trusted data, and provides leading capabilities to train, tune and deploy AI across business. IBM’s hybrid cloud platform is one of the most comprehensive and consistent approach to development, security, and operations across hybrid environments—a flexible foundation for leveraging data, wherever it resides, to extend AI deep into a business.\n",
    "YOUR LIFE @ IBM\n",
    "In a world where technology never stands still, we understand that, dedication to our clients success, innovation that matters, and trust and personal responsibility in all our relationships, lives in what we do as IBMers as we strive to be the catalyst that makes the world work better.\n",
    "\n",
    "Being an IBMer means you’ll be able to learn and develop yourself and your career, you’ll be encouraged to be courageous and experiment everyday, all whilst having continuous trust and support in an environment where everyone can thrive whatever their personal or professional background.\n",
    "\n",
    " \n",
    "\n",
    "Our IBMers are growth minded, always staying curious, open to feedback and learning new information and skills to constantly transform themselves and our company. They are trusted to provide on-going feedback to help other IBMers grow, as well as collaborate with colleagues keeping in mind a team focused approach to include different perspectives to drive exceptional outcomes for our customers. The courage our IBMers have to make critical decisions everyday is essential to IBM becoming the catalyst for progress, always embracing challenges with resources they have to hand, a can-do attitude and always striving for an outcome focused approach within everything that they do.\n",
    "\n",
    " \n",
    "\n",
    "Are you ready to be an IBMer?\n",
    "\n",
    "ABOUT IBM\n",
    "IBM’s greatest invention is the IBMer. We believe that through the application of intelligence, reason and science, we can improve business, society and the human condition, bringing the power of an open hybrid cloud and AI strategy to life for our clients and partners around the world.\n",
    "\n",
    " \n",
    "\n",
    "Restlessly reinventing since 1911, we are not only one of the largest corporate organizations in the world, we’re also one of the biggest technology and consulting employers, with many of the Fortune 50 companies relying on the IBM Cloud to run their business. \n",
    "\n",
    " \n",
    "\n",
    "At IBM, we pride ourselves on being an early adopter of artificial intelligence, quantum computing and blockchain. Now it’s time for you to join us on our journey to being a responsible technology innovator and a force for good in the world.\n",
    "\n",
    "OTHER RELEVANT JOB DETAILS\n",
    "When applying to jobs of your interest, we recommend that you do so for those that match your experience and expertise. Our recruiters advise that you apply to not more than 3 roles in a year for the best candidate experience. For additional information about location requirements, please discuss with the recruiter following submission of your application.\"\"\"\n",
    "\n"
   ]
  },
  {
   "cell_type": "code",
   "execution_count": 3,
   "metadata": {},
   "outputs": [
    {
     "name": "stderr",
     "output_type": "stream",
     "text": [
      "2025-03-05 19:47:06,134 - INFO - HTTP Request: POST https://api.groq.com/openai/v1/chat/completions \"HTTP/1.1 200 OK\"\n",
      "2025-03-05 19:47:07,213 - INFO - HTTP Request: POST https://api.groq.com/openai/v1/chat/completions \"HTTP/1.1 200 OK\"\n"
     ]
    }
   ],
   "source": [
    "\n",
    "state: AgentState = {   \"job_description\":jd,\n",
    "                        \"resume_file\":Path(\"Aditya_Varpe_AI_Engineer_Resume (5).pdf\")\n",
    "}\n",
    "\n",
    "response = graph.invoke(state)\n"
   ]
  },
  {
   "cell_type": "code",
   "execution_count": 4,
   "metadata": {},
   "outputs": [
    {
     "data": {
      "text/plain": [
       "{'job_description': \"Introduction\\nIBM Software infuses core business operations with intelligence—from machine learning to generative AI—to help make organizations more responsive, productive, and resilient. IBM Software helps clients put AI into action now to create real value with trust, speed, and confidence across digital labor, IT automation, application modernization, security, and sustainability. Critical to this is the ability to make use of all data, because AI is only as good as the data that fuels it. In most organizations data is spread across multiple clouds, on premises, in private datacenters, and at the edge. IBM’s AI and data platform scales and accelerates the impact of AI with trusted data, and provides leading capabilities to train, tune and deploy AI across business. IBM’s hybrid cloud platform is one of the most comprehensive and consistent approach to development, security, and operations across hybrid environments—a flexible foundation for leveraging data, wherever it resides, to extend AI deep into a business.\\n \\n\\nYour role and responsibilities\\nDesign, develop, and optimize applications using Python or Go with a focus on AI and ML-driven functionalities. Work with frameworks like Langchain, Langgraph, and Langsmith to build advanced language processing solutions. Implement and manage Kubernetes operators to support scalable, distributed systems. Develop and enhance Retrieval-Augmented Generation (RAG) workflows, including optimization for performance and accuracy. Research, design, and implement Machine Learning, Deep Learning, and Neural Network models to solve complex problems. Apply advanced techniques in Natural Language Processing (NLP) to enhance system capabilities. Collaborate with cross-functional teams to integrate AI/ML solutions into existing products and platforms. Stay updated on the latest trends in AI/ML and cloud-native technologies to ensure the use of best practices.\\n\\nRequired education\\nBachelor's Degree\\nPreferred education\\nMaster's Degree\\nRequired technical and professional expertise\\n2+ years of experience.\\nHands-on experience with Langchain, Langgraph, or Langsmith frameworks. \\nSolid understanding of Kubernetes operators and their deployment. \\nStrong expertise in Machine Learning, Deep Learning, and Neural Networks. \\nProficiency in Natural Language Processing (NLP) and related libraries. \\nKnowledge of Retrieval-Augmented Generation (RAG) workflows and optimization techniques. \\nFamiliarity with cloud-native technologies and distributed systems. \\nExcellent problem-solving skills, a collaborative mindset, and a passion for innovation.\\nPreferred technical and professional experience\\nPrior experience working in AI/ML model optimization or inference pipelines. \\nExposure to containerization tools such as Docker and orchestration platforms like Kubernetes. \\nFamiliarity with vector databases and hybrid search solutions.\\nABOUT BUSINESS UNIT\\nIBM Software infuses core business operations with intelligence—from machine learning to generative AI—to help make organizations more responsive, productive, and resilient. IBM Software helps clients put AI into action now to create real value with trust, speed, and confidence across digital labor, IT automation, application modernization, security, and sustainability. Critical to this is the ability to make use of all data, because AI is only as good as the data that fuels it. In most organizations data is spread across multiple clouds, on premises, in private datacenters, and at the edge. IBM’s AI and data platform scales and accelerates the impact of AI with trusted data, and provides leading capabilities to train, tune and deploy AI across business. IBM’s hybrid cloud platform is one of the most comprehensive and consistent approach to development, security, and operations across hybrid environments—a flexible foundation for leveraging data, wherever it resides, to extend AI deep into a business.\\nYOUR LIFE @ IBM\\nIn a world where technology never stands still, we understand that, dedication to our clients success, innovation that matters, and trust and personal responsibility in all our relationships, lives in what we do as IBMers as we strive to be the catalyst that makes the world work better.\\n\\nBeing an IBMer means you’ll be able to learn and develop yourself and your career, you’ll be encouraged to be courageous and experiment everyday, all whilst having continuous trust and support in an environment where everyone can thrive whatever their personal or professional background.\\n\\n \\n\\nOur IBMers are growth minded, always staying curious, open to feedback and learning new information and skills to constantly transform themselves and our company. They are trusted to provide on-going feedback to help other IBMers grow, as well as collaborate with colleagues keeping in mind a team focused approach to include different perspectives to drive exceptional outcomes for our customers. The courage our IBMers have to make critical decisions everyday is essential to IBM becoming the catalyst for progress, always embracing challenges with resources they have to hand, a can-do attitude and always striving for an outcome focused approach within everything that they do.\\n\\n \\n\\nAre you ready to be an IBMer?\\n\\nABOUT IBM\\nIBM’s greatest invention is the IBMer. We believe that through the application of intelligence, reason and science, we can improve business, society and the human condition, bringing the power of an open hybrid cloud and AI strategy to life for our clients and partners around the world.\\n\\n \\n\\nRestlessly reinventing since 1911, we are not only one of the largest corporate organizations in the world, we’re also one of the biggest technology and consulting employers, with many of the Fortune 50 companies relying on the IBM Cloud to run their business. \\n\\n \\n\\nAt IBM, we pride ourselves on being an early adopter of artificial intelligence, quantum computing and blockchain. Now it’s time for you to join us on our journey to being a responsible technology innovator and a force for good in the world.\\n\\nOTHER RELEVANT JOB DETAILS\\nWhen applying to jobs of your interest, we recommend that you do so for those that match your experience and expertise. Our recruiters advise that you apply to not more than 3 roles in a year for the best candidate experience. For additional information about location requirements, please discuss with the recruiter following submission of your application.\",\n",
       " 'resume_file': PosixPath('Aditya_Varpe_AI_Engineer_Resume (5).pdf'),\n",
       " 'resume_content': 'Aditya Varpe\\nadi.varpe117@gmail.com | +91 8275200921\\n\\uf092github| \\uf08clinkedin\\nEXPERIENCE\\nIbind Systems Private Limited\\nJul 2024 - Present\\nAI Engineer\\nBengaluru, India\\n• Intelligent Document Management System: Orchestrated an Agentic Workflow using the LangGraph Frame-\\nwork to automate classification, summarization, and data extraction, improving document retrieval accuracy by\\n25%.\\n• Cross-Border Payment AI Solution: Developed an AI-driven fraud detection and compliance automation sys-\\ntem, reducing transaction processing time by 50%.\\n• Regulatory Compliance Automation: Developed a Retrieval-Augmented Generation (RAG) framework, utilizing\\ndata visualization tools to enhance interpretability of RBI guideline insights.\\n• Advanced OCR for Financial Documents: Leveraged fine-tuned Vision-Language Models with MLOps pipelines\\nfor seamless deployment and scalability.\\n• Anti-Money Laundering Detection (Neo4j GraphDB): Built a Neo4j graph database for AML investigations,\\nimproving fraud detection accuracy by 40% through graph-based analytics.\\n• Automated Financial Reporting: Created a finance report generator, integrating dynamic web-based data\\nretrieval and custom inputs to deliver actionable financial insights.\\nDeng Infotech Solutions Pvt. Ltd.\\nJan 2024 - Jun 2024\\nMachine Learning Intern\\nBhopal, India\\n• Developed ML models for intrusion detection and fire alarm systems.\\n• Implemented BERT-based NLP models for academic document classification, achieving 88% accuracy across\\nmultiple research domains.\\n• Built and maintained reusable data integration programs in Python, implementing best practices for code effi-\\nciency and documentation.\\nSKILLS\\nAI Technologies\\nData Cleansing | EDA | Predictive Modeling | Prescriptive Modeling | Machine Learning | Deep Learning |\\nGenerative AI | Agentic AI (LangGraph, CrewAI) | NLP | LLMs | Fine-Tuning LLMs | RAG | Computer Vision\\nTools & Frameworks\\nTensorFlow | PyTorch | scikit-learn | Flask | FastAPI | Docker | Git | GitHub | CI/CD\\nCloud Services\\nAWS | Azure | GCP\\nDatabases\\nMySQL | MongoDB | Vector DB (Pinecone, ChromaDB) | Graph DB (Neo4j)\\nProgramming\\nPython\\nPROȷECTS\\nAI-Powered Banking Assistant | (link)\\n2024\\nTools: Open Source LLM, Groq API (Llama 2), Hugging Face Transformers\\n• Developed AI-powered banking assistant using NLP for smarter interactions and automation.\\n• Enhanced customer support, streamlined operations, and improved user experience in Banking.\\nRoad Safety Sign Detection | (link)\\n2023\\nTools: YOLOv8, TensorFlow, Computer Vision\\n• Implemented a vision-based system for real-time road sign detection, targeting the improvement of road safety\\nand traffic management.\\n• Optimized model for deployment, reducing inference time to 150ms while maintaining detection accuracy.\\nEDUCATION\\nBachelor of Technology (B.Tech) - Artificial Intelligence\\nJun 2020 - Jun 2024\\nG. H. Raisoni College of Engineering and Management\\nPune, India\\nCGPA: 8.79\\nHonors in Data Science\\nJun 2022 - May 2024\\nSavitribai Phule Pune University (SPPU)\\nPune, India\\nCGPA: 8.5\\nCERTIFICATIONS\\n• Neo4j Fundamentals (Neo4j)\\n• SQL Basic & Intermediate (HackerRank)\\n• Python Essentials for MLOps (Coursera)\\n• Certified Peer Counsellor (GHRCEM, Pune)\\n',\n",
       " 'ats_analysis_agent': {'company_name': 'IBM',\n",
       "  'job_ID': 'Not mentioned',\n",
       "  'job_description_match_score': 80,\n",
       "  'missing_keywords': 'Go programming language, Docker, Hybrid cloud platform, Vector databases',\n",
       "  'matching_keywords': 'AI, Machine Learning, Deep Learning, Natural Language Processing, Langchain, Langgraph, Kubernetes, Cloud-native technologies',\n",
       "  'resume_edit_suggestions': 'To improve the resume, it is suggested to include experience with Go programming language, Docker, and hybrid cloud platforms. Additionally, highlighting experience with vector databases and containerization tools can enhance the resume. It is also recommended to tailor the resume to the specific job description by emphasizing relevant skills and experiences.'},\n",
       " 'email_finder_agent': {'emails': ['riya.jaiswal@ibm.com',\n",
       "   'maruti.malladi@ibm.com',\n",
       "   'sebastian.zuniga@ibm.com',\n",
       "   'jie.nie@ibm.com',\n",
       "   'bella.chew@ibm.com',\n",
       "   'indresh.kumar@ibm.com',\n",
       "   'jennifer.taylor@ibm.com',\n",
       "   'diego.rey@ibm.com',\n",
       "   'piotr.buczynski@ibm.com',\n",
       "   'michael.franklin@ibm.com'],\n",
       "  'domain': 'ibm.com'},\n",
       " 'cold_mail_writer_agent': {'subject': 'Application for AI Engineer Position',\n",
       "  'main_body': \"Dear Hiring Team,\\nI am excited to apply for the AI Engineer position at IBM, where I can utilize my skills in AI and ML to drive business growth.\\nWith experience in developing AI-driven fraud detection systems, improving document retrieval accuracy by 25%, and building Neo4j graph databases for AML investigations, I am confident in my ability to design and develop applications using Python with a focus on AI and ML-driven functionalities.\\nI would appreciate the opportunity to discuss my application and how I can contribute to IBM's success. Please find my resume attached below.\\nBest regards, Aditya Varpe\"}}"
      ]
     },
     "execution_count": 4,
     "metadata": {},
     "output_type": "execute_result"
    }
   ],
   "source": [
    "response"
   ]
  },
  {
   "cell_type": "code",
   "execution_count": null,
   "metadata": {},
   "outputs": [],
   "source": []
  }
 ],
 "metadata": {
  "language_info": {
   "name": "python"
  }
 },
 "nbformat": 4,
 "nbformat_minor": 2
}
