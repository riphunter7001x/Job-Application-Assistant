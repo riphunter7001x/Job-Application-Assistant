{
 "cells": [
  {
   "cell_type": "code",
   "execution_count": 2,
   "metadata": {},
   "outputs": [],
   "source": [
    "from src.model import llm_model"
   ]
  },
  {
   "cell_type": "code",
   "execution_count": 3,
   "metadata": {},
   "outputs": [
    {
     "data": {
      "text/plain": [
       "\"It's nice to meet you. Is there something I can help you with or would you like to chat?\""
      ]
     },
     "execution_count": 3,
     "metadata": {},
     "output_type": "execute_result"
    }
   ],
   "source": [
    "llm_model.invoke(\"hi\").content"
   ]
  },
  {
   "cell_type": "code",
   "execution_count": 7,
   "metadata": {},
   "outputs": [],
   "source": [
    "from src.agents import parser_agent"
   ]
  },
  {
   "cell_type": "code",
   "execution_count": 8,
   "metadata": {},
   "outputs": [],
   "source": [
    "jd3  = \"\"\"Introduction\n",
    "IBM Software infuses core business operations with intelligence—from machine learning to generative AI—to help make organizations more responsive, productive, and resilient. IBM Software helps clients put AI into action now to create real value with trust, speed, and confidence across digital labor, IT automation, application modernization, security, and sustainability. Critical to this is the ability to make use of all data, because AI is only as good as the data that fuels it. In most organizations data is spread across multiple clouds, on premises, in private datacenters, and at the edge. IBM’s AI and data platform scales and accelerates the impact of AI with trusted data, and provides leading capabilities to train, tune and deploy AI across business. IBM’s hybrid cloud platform is one of the most comprehensive and consistent approach to development, security, and operations across hybrid environments—a flexible foundation for leveraging data, wherever it resides, to extend AI deep into a business.\n",
    " \n",
    "\n",
    "Your role and responsibilities\n",
    "Design, develop, and optimize applications using Python or Go with a focus on AI and ML-driven functionalities. Work with frameworks like Langchain, Langgraph, and Langsmith to build advanced language processing solutions. Implement and manage Kubernetes operators to support scalable, distributed systems. Develop and enhance Retrieval-Augmented Generation (RAG) workflows, including optimization for performance and accuracy. Research, design, and implement Machine Learning, Deep Learning, and Neural Network models to solve complex problems. Apply advanced techniques in Natural Language Processing (NLP) to enhance system capabilities. Collaborate with cross-functional teams to integrate AI/ML solutions into existing products and platforms. Stay updated on the latest trends in AI/ML and cloud-native technologies to ensure the use of best practices.\n",
    "\n",
    "Required education\n",
    "Bachelor's Degree\n",
    "Preferred education\n",
    "Master's Degree\n",
    "Required technical and professional expertise\n",
    "2+ years of experience.\n",
    "Hands-on experience with Langchain, Langgraph, or Langsmith frameworks. \n",
    "Solid understanding of Kubernetes operators and their deployment. \n",
    "Strong expertise in Machine Learning, Deep Learning, and Neural Networks. \n",
    "Proficiency in Natural Language Processing (NLP) and related libraries. \n",
    "Knowledge of Retrieval-Augmented Generation (RAG) workflows and optimization techniques. \n",
    "Familiarity with cloud-native technologies and distributed systems. \n",
    "Excellent problem-solving skills, a collaborative mindset, and a passion for innovation.\n",
    "Preferred technical and professional experience\n",
    "Prior experience working in AI/ML model optimization or inference pipelines. \n",
    "Exposure to containerization tools such as Docker and orchestration platforms like Kubernetes. \n",
    "Familiarity with vector databases and hybrid search solutions.\n",
    "ABOUT BUSINESS UNIT\n",
    "IBM Software infuses core business operations with intelligence—from machine learning to generative AI—to help make organizations more responsive, productive, and resilient. IBM Software helps clients put AI into action now to create real value with trust, speed, and confidence across digital labor, IT automation, application modernization, security, and sustainability. Critical to this is the ability to make use of all data, because AI is only as good as the data that fuels it. In most organizations data is spread across multiple clouds, on premises, in private datacenters, and at the edge. IBM’s AI and data platform scales and accelerates the impact of AI with trusted data, and provides leading capabilities to train, tune and deploy AI across business. IBM’s hybrid cloud platform is one of the most comprehensive and consistent approach to development, security, and operations across hybrid environments—a flexible foundation for leveraging data, wherever it resides, to extend AI deep into a business.\n",
    "YOUR LIFE @ IBM\n",
    "In a world where technology never stands still, we understand that, dedication to our clients success, innovation that matters, and trust and personal responsibility in all our relationships, lives in what we do as IBMers as we strive to be the catalyst that makes the world work better.\n",
    "\n",
    "Being an IBMer means you’ll be able to learn and develop yourself and your career, you’ll be encouraged to be courageous and experiment everyday, all whilst having continuous trust and support in an environment where everyone can thrive whatever their personal or professional background.\n",
    "\n",
    " \n",
    "\n",
    "Our IBMers are growth minded, always staying curious, open to feedback and learning new information and skills to constantly transform themselves and our company. They are trusted to provide on-going feedback to help other IBMers grow, as well as collaborate with colleagues keeping in mind a team focused approach to include different perspectives to drive exceptional outcomes for our customers. The courage our IBMers have to make critical decisions everyday is essential to IBM becoming the catalyst for progress, always embracing challenges with resources they have to hand, a can-do attitude and always striving for an outcome focused approach within everything that they do.\n",
    "\n",
    " \n",
    "\n",
    "Are you ready to be an IBMer?\n",
    "\n",
    "ABOUT IBM\n",
    "IBM’s greatest invention is the IBMer. We believe that through the application of intelligence, reason and science, we can improve business, society and the human condition, bringing the power of an open hybrid cloud and AI strategy to life for our clients and partners around the world.\n",
    "\n",
    " \n",
    "\n",
    "Restlessly reinventing since 1911, we are not only one of the largest corporate organizations in the world, we’re also one of the biggest technology and consulting employers, with many of the Fortune 50 companies relying on the IBM Cloud to run their business. \n",
    "\n",
    " \n",
    "\n",
    "At IBM, we pride ourselves on being an early adopter of artificial intelligence, quantum computing and blockchain. Now it’s time for you to join us on our journey to being a responsible technology innovator and a force for good in the world.\n",
    "\n",
    "OTHER RELEVANT JOB DETAILS\n",
    "When applying to jobs of your interest, we recommend that you do so for those that match your experience and expertise. Our recruiters advise that you apply to not more than 3 roles in a year for the best candidate experience. For additional information about location requirements, please discuss with the recruiter following submission of your application.\"\"\""
   ]
  },
  {
   "cell_type": "code",
   "execution_count": 24,
   "metadata": {},
   "outputs": [],
   "source": [
    "response = parser_agent(state)"
   ]
  },
  {
   "cell_type": "code",
   "execution_count": 25,
   "metadata": {},
   "outputs": [
    {
     "data": {
      "text/plain": [
       "{'job_description': \"Introduction\\nIBM Software infuses core business operations with intelligence—from machine learning to generative AI—to help make organizations more responsive, productive, and resilient. IBM Software helps clients put AI into action now to create real value with trust, speed, and confidence across digital labor, IT automation, application modernization, security, and sustainability. Critical to this is the ability to make use of all data, because AI is only as good as the data that fuels it. In most organizations data is spread across multiple clouds, on premises, in private datacenters, and at the edge. IBM’s AI and data platform scales and accelerates the impact of AI with trusted data, and provides leading capabilities to train, tune and deploy AI across business. IBM’s hybrid cloud platform is one of the most comprehensive and consistent approach to development, security, and operations across hybrid environments—a flexible foundation for leveraging data, wherever it resides, to extend AI deep into a business.\\n \\n\\nYour role and responsibilities\\nDesign, develop, and optimize applications using Python or Go with a focus on AI and ML-driven functionalities. Work with frameworks like Langchain, Langgraph, and Langsmith to build advanced language processing solutions. Implement and manage Kubernetes operators to support scalable, distributed systems. Develop and enhance Retrieval-Augmented Generation (RAG) workflows, including optimization for performance and accuracy. Research, design, and implement Machine Learning, Deep Learning, and Neural Network models to solve complex problems. Apply advanced techniques in Natural Language Processing (NLP) to enhance system capabilities. Collaborate with cross-functional teams to integrate AI/ML solutions into existing products and platforms. Stay updated on the latest trends in AI/ML and cloud-native technologies to ensure the use of best practices.\\n\\nRequired education\\nBachelor's Degree\\nPreferred education\\nMaster's Degree\\nRequired technical and professional expertise\\n2+ years of experience.\\nHands-on experience with Langchain, Langgraph, or Langsmith frameworks. \\nSolid understanding of Kubernetes operators and their deployment. \\nStrong expertise in Machine Learning, Deep Learning, and Neural Networks. \\nProficiency in Natural Language Processing (NLP) and related libraries. \\nKnowledge of Retrieval-Augmented Generation (RAG) workflows and optimization techniques. \\nFamiliarity with cloud-native technologies and distributed systems. \\nExcellent problem-solving skills, a collaborative mindset, and a passion for innovation.\\nPreferred technical and professional experience\\nPrior experience working in AI/ML model optimization or inference pipelines. \\nExposure to containerization tools such as Docker and orchestration platforms like Kubernetes. \\nFamiliarity with vector databases and hybrid search solutions.\\nABOUT BUSINESS UNIT\\nIBM Software infuses core business operations with intelligence—from machine learning to generative AI—to help make organizations more responsive, productive, and resilient. IBM Software helps clients put AI into action now to create real value with trust, speed, and confidence across digital labor, IT automation, application modernization, security, and sustainability. Critical to this is the ability to make use of all data, because AI is only as good as the data that fuels it. In most organizations data is spread across multiple clouds, on premises, in private datacenters, and at the edge. IBM’s AI and data platform scales and accelerates the impact of AI with trusted data, and provides leading capabilities to train, tune and deploy AI across business. IBM’s hybrid cloud platform is one of the most comprehensive and consistent approach to development, security, and operations across hybrid environments—a flexible foundation for leveraging data, wherever it resides, to extend AI deep into a business.\\nYOUR LIFE @ IBM\\nIn a world where technology never stands still, we understand that, dedication to our clients success, innovation that matters, and trust and personal responsibility in all our relationships, lives in what we do as IBMers as we strive to be the catalyst that makes the world work better.\\n\\nBeing an IBMer means you’ll be able to learn and develop yourself and your career, you’ll be encouraged to be courageous and experiment everyday, all whilst having continuous trust and support in an environment where everyone can thrive whatever their personal or professional background.\\n\\n \\n\\nOur IBMers are growth minded, always staying curious, open to feedback and learning new information and skills to constantly transform themselves and our company. They are trusted to provide on-going feedback to help other IBMers grow, as well as collaborate with colleagues keeping in mind a team focused approach to include different perspectives to drive exceptional outcomes for our customers. The courage our IBMers have to make critical decisions everyday is essential to IBM becoming the catalyst for progress, always embracing challenges with resources they have to hand, a can-do attitude and always striving for an outcome focused approach within everything that they do.\\n\\n \\n\\nAre you ready to be an IBMer?\\n\\nABOUT IBM\\nIBM’s greatest invention is the IBMer. We believe that through the application of intelligence, reason and science, we can improve business, society and the human condition, bringing the power of an open hybrid cloud and AI strategy to life for our clients and partners around the world.\\n\\n \\n\\nRestlessly reinventing since 1911, we are not only one of the largest corporate organizations in the world, we’re also one of the biggest technology and consulting employers, with many of the Fortune 50 companies relying on the IBM Cloud to run their business. \\n\\n \\n\\nAt IBM, we pride ourselves on being an early adopter of artificial intelligence, quantum computing and blockchain. Now it’s time for you to join us on our journey to being a responsible technology innovator and a force for good in the world.\\n\\nOTHER RELEVANT JOB DETAILS\\nWhen applying to jobs of your interest, we recommend that you do so for those that match your experience and expertise. Our recruiters advise that you apply to not more than 3 roles in a year for the best candidate experience. For additional information about location requirements, please discuss with the recruiter following submission of your application.\",\n",
       " 'resume_file': PosixPath('Aditya_Varpe_AI_Engineer_Resume (5).pdf'),\n",
       " 'score_and_details': {'company_name': 'IBM',\n",
       "  'job_description_match_score': 85,\n",
       "  'missing_keywords': 'Go programming language, hybrid cloud platform, containerization tools, vector databases',\n",
       "  'matching_keywords': 'AI, Machine Learning, Natural Language Processing, Python, Cloud, Kubernetes, Langchain, Langgraph',\n",
       "  'resume_edit_suggestions': \"To improve the resume, consider adding experience with Go programming language, hybrid cloud platforms, and containerization tools like Docker. Additionally, highlighting knowledge of vector databases and hybrid search solutions can enhance the candidate's profile. Emphasize the ability to work with distributed systems, implement Retrieval-Augmented Generation (RAG) workflows, and optimize Machine Learning models for better performance.\"}}"
      ]
     },
     "execution_count": 25,
     "metadata": {},
     "output_type": "execute_result"
    }
   ],
   "source": [
    "response\n"
   ]
  },
  {
   "cell_type": "code",
   "execution_count": 6,
   "metadata": {},
   "outputs": [
    {
     "ename": "NameError",
     "evalue": "name 'response' is not defined",
     "output_type": "error",
     "traceback": [
      "\u001b[0;31m---------------------------------------------------------------------------\u001b[0m",
      "\u001b[0;31mNameError\u001b[0m                                 Traceback (most recent call last)",
      "Cell \u001b[0;32mIn[6], line 1\u001b[0m\n\u001b[0;32m----> 1\u001b[0m \u001b[43mresponse\u001b[49m\n",
      "\u001b[0;31mNameError\u001b[0m: name 'response' is not defined"
     ]
    }
   ],
   "source": [
    "response"
   ]
  },
  {
   "cell_type": "code",
   "execution_count": 7,
   "metadata": {},
   "outputs": [],
   "source": [
    "from src.utils import ResumeResponse\n",
    "from src.prompt import prompt_template\n",
    "\n",
    "def parser_agent(state):\n",
    "    resume_path = state[\"resume_file\"]\n",
    "    job_description = state[\"job_description\"]\n",
    "    \n",
    "    resume_content = extract_from_doc(resume_path)\n",
    "    \n",
    "    structured_response = llm_model.with_structured_output(ResumeResponse)\n",
    "    response = structured_response.invoke(\n",
    "        prompt_template.format(\n",
    "            text=resume_content, \n",
    "            job_description=job_description\n",
    "        )\n",
    "    ).model_dump()\n",
    "    \n",
    "    # Update the state with the response\n",
    "    return {\n",
    "        **state,  # Preserve existing state\n",
    "        \"resume_conent\" : resume_conent \n",
    "        \"score_and_details\": response  # Add or update score_and_details\n",
    "    }"
   ]
  },
  {
   "cell_type": "code",
   "execution_count": 9,
   "metadata": {},
   "outputs": [
    {
     "ename": "TypeError",
     "evalue": "parser_agnet() missing 1 required positional argument: 'resume_path'",
     "output_type": "error",
     "traceback": [
      "\u001b[0;31m---------------------------------------------------------------------------\u001b[0m",
      "\u001b[0;31mTypeError\u001b[0m                                 Traceback (most recent call last)",
      "Cell \u001b[0;32mIn[9], line 1\u001b[0m\n\u001b[0;32m----> 1\u001b[0m \u001b[43mparser_agnet\u001b[49m\u001b[43m(\u001b[49m\u001b[43mstate\u001b[49m\u001b[43m)\u001b[49m\n",
      "\u001b[0;31mTypeError\u001b[0m: parser_agnet() missing 1 required positional argument: 'resume_path'"
     ]
    }
   ],
   "source": [
    "parser_agnet(state)"
   ]
  },
  {
   "cell_type": "code",
   "execution_count": 22,
   "metadata": {},
   "outputs": [],
   "source": [
    "from src.utils import ResumeResponse\n",
    "from src.prompt import prompt_template\n",
    "\n",
    "def parser_agent_(state):\n",
    "    resume_path = state[\"resume_file\"]\n",
    "    job_description = state[\"job_description\"]\n",
    "    \n",
    "    resume_content = extract_from_doc(resume_path)\n",
    "    \n",
    "    structured_response = llm_model.with_structured_output(ResumeResponse)\n",
    "    response = structured_response.invoke(\n",
    "        prompt_template.format(\n",
    "            text=resume_content, \n",
    "            job_description=job_description\n",
    "        )\n",
    "    ).model_dump()\n",
    "    \n",
    "    # Update the state with the response\n",
    "    return {\n",
    "        **state,  # Preserve existing state\n",
    "        \"resume_content\" : resume_content ,\n",
    "        \"score_and_details\": response  # Add or update score_and_details\n",
    "    }"
   ]
  },
  {
   "cell_type": "code",
   "execution_count": 23,
   "metadata": {},
   "outputs": [
    {
     "data": {
      "text/plain": [
       "{'job_description': \"Introduction\\nIBM Software infuses core business operations with intelligence—from machine learning to generative AI—to help make organizations more responsive, productive, and resilient. IBM Software helps clients put AI into action now to create real value with trust, speed, and confidence across digital labor, IT automation, application modernization, security, and sustainability. Critical to this is the ability to make use of all data, because AI is only as good as the data that fuels it. In most organizations data is spread across multiple clouds, on premises, in private datacenters, and at the edge. IBM’s AI and data platform scales and accelerates the impact of AI with trusted data, and provides leading capabilities to train, tune and deploy AI across business. IBM’s hybrid cloud platform is one of the most comprehensive and consistent approach to development, security, and operations across hybrid environments—a flexible foundation for leveraging data, wherever it resides, to extend AI deep into a business.\\n \\n\\nYour role and responsibilities\\nDesign, develop, and optimize applications using Python or Go with a focus on AI and ML-driven functionalities. Work with frameworks like Langchain, Langgraph, and Langsmith to build advanced language processing solutions. Implement and manage Kubernetes operators to support scalable, distributed systems. Develop and enhance Retrieval-Augmented Generation (RAG) workflows, including optimization for performance and accuracy. Research, design, and implement Machine Learning, Deep Learning, and Neural Network models to solve complex problems. Apply advanced techniques in Natural Language Processing (NLP) to enhance system capabilities. Collaborate with cross-functional teams to integrate AI/ML solutions into existing products and platforms. Stay updated on the latest trends in AI/ML and cloud-native technologies to ensure the use of best practices.\\n\\nRequired education\\nBachelor's Degree\\nPreferred education\\nMaster's Degree\\nRequired technical and professional expertise\\n2+ years of experience.\\nHands-on experience with Langchain, Langgraph, or Langsmith frameworks. \\nSolid understanding of Kubernetes operators and their deployment. \\nStrong expertise in Machine Learning, Deep Learning, and Neural Networks. \\nProficiency in Natural Language Processing (NLP) and related libraries. \\nKnowledge of Retrieval-Augmented Generation (RAG) workflows and optimization techniques. \\nFamiliarity with cloud-native technologies and distributed systems. \\nExcellent problem-solving skills, a collaborative mindset, and a passion for innovation.\\nPreferred technical and professional experience\\nPrior experience working in AI/ML model optimization or inference pipelines. \\nExposure to containerization tools such as Docker and orchestration platforms like Kubernetes. \\nFamiliarity with vector databases and hybrid search solutions.\\nABOUT BUSINESS UNIT\\nIBM Software infuses core business operations with intelligence—from machine learning to generative AI—to help make organizations more responsive, productive, and resilient. IBM Software helps clients put AI into action now to create real value with trust, speed, and confidence across digital labor, IT automation, application modernization, security, and sustainability. Critical to this is the ability to make use of all data, because AI is only as good as the data that fuels it. In most organizations data is spread across multiple clouds, on premises, in private datacenters, and at the edge. IBM’s AI and data platform scales and accelerates the impact of AI with trusted data, and provides leading capabilities to train, tune and deploy AI across business. IBM’s hybrid cloud platform is one of the most comprehensive and consistent approach to development, security, and operations across hybrid environments—a flexible foundation for leveraging data, wherever it resides, to extend AI deep into a business.\\nYOUR LIFE @ IBM\\nIn a world where technology never stands still, we understand that, dedication to our clients success, innovation that matters, and trust and personal responsibility in all our relationships, lives in what we do as IBMers as we strive to be the catalyst that makes the world work better.\\n\\nBeing an IBMer means you’ll be able to learn and develop yourself and your career, you’ll be encouraged to be courageous and experiment everyday, all whilst having continuous trust and support in an environment where everyone can thrive whatever their personal or professional background.\\n\\n \\n\\nOur IBMers are growth minded, always staying curious, open to feedback and learning new information and skills to constantly transform themselves and our company. They are trusted to provide on-going feedback to help other IBMers grow, as well as collaborate with colleagues keeping in mind a team focused approach to include different perspectives to drive exceptional outcomes for our customers. The courage our IBMers have to make critical decisions everyday is essential to IBM becoming the catalyst for progress, always embracing challenges with resources they have to hand, a can-do attitude and always striving for an outcome focused approach within everything that they do.\\n\\n \\n\\nAre you ready to be an IBMer?\\n\\nABOUT IBM\\nIBM’s greatest invention is the IBMer. We believe that through the application of intelligence, reason and science, we can improve business, society and the human condition, bringing the power of an open hybrid cloud and AI strategy to life for our clients and partners around the world.\\n\\n \\n\\nRestlessly reinventing since 1911, we are not only one of the largest corporate organizations in the world, we’re also one of the biggest technology and consulting employers, with many of the Fortune 50 companies relying on the IBM Cloud to run their business. \\n\\n \\n\\nAt IBM, we pride ourselves on being an early adopter of artificial intelligence, quantum computing and blockchain. Now it’s time for you to join us on our journey to being a responsible technology innovator and a force for good in the world.\\n\\nOTHER RELEVANT JOB DETAILS\\nWhen applying to jobs of your interest, we recommend that you do so for those that match your experience and expertise. Our recruiters advise that you apply to not more than 3 roles in a year for the best candidate experience. For additional information about location requirements, please discuss with the recruiter following submission of your application.\",\n",
       " 'resume_file': PosixPath('Aditya_Varpe_AI_Engineer_Resume (5).pdf'),\n",
       " 'resume_content': 'Aditya Varpe\\nadi.varpe117@gmail.com | +91 8275200921\\n\\uf092github| \\uf08clinkedin\\nEXPERIENCE\\nIbind Systems Private Limited\\nJul 2024 - Present\\nAI Engineer\\nBengaluru, India\\n• Intelligent Document Management System: Orchestrated an Agentic Workflow using the LangGraph Frame-\\nwork to automate classification, summarization, and data extraction, improving document retrieval accuracy by\\n25%.\\n• Cross-Border Payment AI Solution: Developed an AI-driven fraud detection and compliance automation sys-\\ntem, reducing transaction processing time by 50%.\\n• Regulatory Compliance Automation: Developed a Retrieval-Augmented Generation (RAG) framework, utilizing\\ndata visualization tools to enhance interpretability of RBI guideline insights.\\n• Advanced OCR for Financial Documents: Leveraged fine-tuned Vision-Language Models with MLOps pipelines\\nfor seamless deployment and scalability.\\n• Anti-Money Laundering Detection (Neo4j GraphDB): Built a Neo4j graph database for AML investigations,\\nimproving fraud detection accuracy by 40% through graph-based analytics.\\n• Automated Financial Reporting: Created a finance report generator, integrating dynamic web-based data\\nretrieval and custom inputs to deliver actionable financial insights.\\nDeng Infotech Solutions Pvt. Ltd.\\nJan 2024 - Jun 2024\\nMachine Learning Intern\\nBhopal, India\\n• Developed ML models for intrusion detection and fire alarm systems.\\n• Implemented BERT-based NLP models for academic document classification, achieving 88% accuracy across\\nmultiple research domains.\\n• Built and maintained reusable data integration programs in Python, implementing best practices for code effi-\\nciency and documentation.\\nSKILLS\\nAI Technologies\\nData Cleansing | EDA | Predictive Modeling | Prescriptive Modeling | Machine Learning | Deep Learning |\\nGenerative AI | Agentic AI (LangGraph, CrewAI) | NLP | LLMs | Fine-Tuning LLMs | RAG | Computer Vision\\nTools & Frameworks\\nTensorFlow | PyTorch | scikit-learn | Flask | FastAPI | Docker | Git | GitHub | CI/CD\\nCloud Services\\nAWS | Azure | GCP\\nDatabases\\nMySQL | MongoDB | Vector DB (Pinecone, ChromaDB) | Graph DB (Neo4j)\\nProgramming\\nPython\\nPROȷECTS\\nAI-Powered Banking Assistant | (link)\\n2024\\nTools: Open Source LLM, Groq API (Llama 2), Hugging Face Transformers\\n• Developed AI-powered banking assistant using NLP for smarter interactions and automation.\\n• Enhanced customer support, streamlined operations, and improved user experience in Banking.\\nRoad Safety Sign Detection | (link)\\n2023\\nTools: YOLOv8, TensorFlow, Computer Vision\\n• Implemented a vision-based system for real-time road sign detection, targeting the improvement of road safety\\nand traffic management.\\n• Optimized model for deployment, reducing inference time to 150ms while maintaining detection accuracy.\\nEDUCATION\\nBachelor of Technology (B.Tech) - Artificial Intelligence\\nJun 2020 - Jun 2024\\nG. H. Raisoni College of Engineering and Management\\nPune, India\\nCGPA: 8.79\\nHonors in Data Science\\nJun 2022 - May 2024\\nSavitribai Phule Pune University (SPPU)\\nPune, India\\nCGPA: 8.5\\nCERTIFICATIONS\\n• Neo4j Fundamentals (Neo4j)\\n• SQL Basic & Intermediate (HackerRank)\\n• Python Essentials for MLOps (Coursera)\\n• Certified Peer Counsellor (GHRCEM, Pune)\\n',\n",
       " 'score_and_details': {'company_name': 'IBM',\n",
       "  'job_description_match_score': 85,\n",
       "  'missing_keywords': 'Go programming language, Hybrid Cloud Platform, Vector Databases, Hybrid Search Solutions',\n",
       "  'matching_keywords': 'AI, Machine Learning, Deep Learning, Natural Language Processing, Langchain, Langgraph, Kubernetes, Cloud Native Technologies',\n",
       "  'resume_edit_suggestions': 'To improve the resume, consider adding experience with Go programming language, highlight expertise in hybrid cloud platforms, and mention familiarity with vector databases and hybrid search solutions. Additionally, emphasize experience with Kubernetes operators and Retrieval-Augmented Generation (RAG) workflows.'}}"
      ]
     },
     "execution_count": 23,
     "metadata": {},
     "output_type": "execute_result"
    }
   ],
   "source": [
    "parser_agent_(state)"
   ]
  },
  {
   "cell_type": "code",
   "execution_count": 21,
   "metadata": {},
   "outputs": [],
   "source": [
    "from typing_extensions import Annotated, TypedDict, NotRequired,Optional\n",
    "from pathlib import Path\n",
    "from typing import Dict, Any\n",
    "\n",
    "class State(TypedDict):\n",
    "    job_description: str\n",
    "    resume_file: Path\n",
    "    resume_content: Optional[str]\n",
    "    score_and_details: Optional[Dict[str, Any]]\n",
    "\n",
    "# Create a new state instance using the State class\n",
    "state = State(\n",
    "    job_description=jd3,\n",
    "    resume_file=Path(\"Aditya_Varpe_AI_Engineer_Resume (5).pdf\")\n",
    ")"
   ]
  },
  {
   "cell_type": "code",
   "execution_count": null,
   "metadata": {},
   "outputs": [],
   "source": [
    "path = state[\"resume_file\"]\n",
    "path.suffix"
   ]
  },
  {
   "cell_type": "code",
   "execution_count": 28,
   "metadata": {},
   "outputs": [],
   "source": [
    "prompt = \"\"\"You are a professional resume writer specializing in seamlessly integrating missing keywords into resumes while maintaining authenticity, professionalism, and alignment with the candidate's skills, experience, and job requirements.\n",
    "\n",
    "job Description: {job_Description}\n",
    "Matching Keywords: {matching_keywords}\n",
    "Current Resume Content: {resume_content}\n",
    "\n",
    "Your task is to naturally incorporate the missing keywords into the provided resume, ensuring they fit contextually and enhance the resume's effectiveness without compromising readability. Maintain a professional tone and logical flow throughout.\n",
    "\n",
    "After modifying the resume, integrate the revised content into the given LaTeX template.\n",
    "template : {template}\n",
    " \"\"\""
   ]
  },
  {
   "cell_type": "code",
   "execution_count": 13,
   "metadata": {},
   "outputs": [],
   "source": [
    "from src.utils import extract_from_doc\n",
    "# resume_content = extract_from_doc(path)"
   ]
  },
  {
   "cell_type": "code",
   "execution_count": null,
   "metadata": {},
   "outputs": [],
   "source": [
    "resume_content\n"
   ]
  },
  {
   "cell_type": "code",
   "execution_count": 40,
   "metadata": {},
   "outputs": [],
   "source": [
    "import fitz\n",
    "from pathlib import Path\n",
    "def _extract_from_pdf(file_path: Path) -> str:\n",
    "    doc = fitz.open(file_path)\n",
    "    text = \"\\n\".join([page.get_text(\"text\") for page in doc])\n",
    "    return text"
   ]
  },
  {
   "cell_type": "code",
   "execution_count": 41,
   "metadata": {},
   "outputs": [],
   "source": [
    "resume_content = _extract_from_pdf(\"Aditya_Varpe_AI_Engineer_Resume (3).pdf\")"
   ]
  },
  {
   "cell_type": "code",
   "execution_count": null,
   "metadata": {},
   "outputs": [],
   "source": [
    "resume_content"
   ]
  },
  {
   "cell_type": "code",
   "execution_count": 43,
   "metadata": {},
   "outputs": [],
   "source": [
    "latex_template  = r\"\"\" \\documentclass{resume} % Use the custom resume.cls style\n",
    "\n",
    "\\usepackage[left=0.4 in,top=0.4in,right=0.4 in,bottom=0.4in]{geometry} % Document margins\n",
    "\\newcommand{\\tab}[1]{\\hspace{.2667\\textwidth}\\rlap{#1}} \n",
    "\\newcommand{\\itab}[1]{\\hspace{0em}\\rlap{#1}}\n",
    "\\name{Firstname Lastname} % Your name\n",
    "% You can merge both of these into a single line, if you do not have a website.\n",
    "\\address{+1(123) 456-7890 \\\\ San Francisco, CA} \n",
    "\\address{\\href{mailto:contact@faangpath.com}{contact@faangpath.com} \\\\ \\href{https://linkedin.com/company/faangpath}{linkedin.com/company/faangpath} \\\\ \\href{www.faangpath.com}{www.faangpath.com}}  %\n",
    "\n",
    "\\begin{document}\n",
    "\n",
    "%----------------------------------------------------------------------------------------\n",
    "%\tOBJECTIVE\n",
    "%----------------------------------------------------------------------------------------\n",
    "\n",
    "\\begin{rSection}{OBJECTIVE}\n",
    "\n",
    "{Software Engineer with 2+ years of experience in XXX, seeking full-time XXX roles.}\n",
    "\n",
    "\n",
    "\\end{rSection}\n",
    "%----------------------------------------------------------------------------------------\n",
    "%\tEDUCATION SECTION\n",
    "%----------------------------------------------------------------------------------------\n",
    "\n",
    "\\begin{rSection}{Education}\n",
    "\n",
    "{\\bf Master of Computer Science}, Stanford University \\hfill {Expected 2020}\\\\\n",
    "Relevant Coursework: A, B, C, and D.\n",
    "\n",
    "{\\bf Bachelor of Computer Science}, Stanford University \\hfill {2014 - 2017}\n",
    "%Minor in Linguistics \\smallskip \\\\\n",
    "%Member of Eta Kappa Nu \\\\\n",
    "%Member of Upsilon Pi Epsilon \\\\\n",
    "\n",
    "\n",
    "\\end{rSection}\n",
    "\n",
    "%----------------------------------------------------------------------------------------\n",
    "% TECHINICAL STRENGTHS\t\n",
    "%----------------------------------------------------------------------------------------\n",
    "\\begin{rSection}{SKILLS}\n",
    "\n",
    "\\begin{tabular}{ @{} >{\\bfseries}l @{\\hspace{6ex}} l }\n",
    "Technical Skills & A, B, C, D\n",
    "\\\\\n",
    "Soft Skills & A, B, C, D\\\\\n",
    "XYZ & A, B, C, D\\\\\n",
    "\\end{tabular}\\\\\n",
    "\\end{rSection}\n",
    "\n",
    "\\begin{rSection}{EXPERIENCE}\n",
    "\n",
    "\\textbf{Role Name} \\hfill Jan 2017 - Jan 2019\\\\\n",
    "Company Name \\hfill \\textit{San Francisco, CA}\n",
    " \\begin{itemize}\n",
    "    \\itemsep -3pt {} \n",
    "     \\item Achieved X\\% growth for XYZ using A, B, and C skills.\n",
    "     \\item Led XYZ which led to X\\% of improvement in ABC\n",
    "    \\item Developed XYZ that did A, B, and C using X, Y, and Z. \n",
    " \\end{itemize}\n",
    " \n",
    "\\textbf{Role Name} \\hfill Jan 2017 - Jan 2019\\\\\n",
    "Company Name \\hfill \\textit{San Francisco, CA}\n",
    " \\begin{itemize}\n",
    "    \\itemsep -3pt {} \n",
    "     \\item Achieved X\\% growth for XYZ using A, B, and C skills.\n",
    "     \\item Led XYZ which led to X\\% of improvement in ABC\n",
    "    \\item Developed XYZ that did A, B, and C using X, Y, and Z. \n",
    " \\end{itemize}\n",
    "\n",
    "\\end{rSection} \n",
    "\n",
    "%----------------------------------------------------------------------------------------\n",
    "%\tWORK EXPERIENCE SECTION\n",
    "%----------------------------------------------------------------------------------------\n",
    "\n",
    "\\begin{rSection}{PROJECTS}\n",
    "\\vspace{-1.25em}\n",
    "\\item \\textbf{Hiring Search Tool.} {Built a tool to search for Hiring Managers and Recruiters by using ReactJS, NodeJS, Firebase and boolean queries. Over 25000 people have used it so far, with 5000+ queries being saved and shared, and search results even better than LinkedIn! \\href{https://hiring-search.careerflow.ai/}{(Try it here)}}\n",
    "\\item \\textbf{Short Project Title.} {Build a project that does something and had quantified success using A, B, and C. This project's description spans two lines and also won an award.}\n",
    "\\item \\textbf{Short Project Title.} {Build a project that does something and had quantified success using A, B, and C. This project's description spans two lines and also won an award.}\n",
    "\\end{rSection} \n",
    "\n",
    "%----------------------------------------------------------------------------------------\n",
    "\\begin{rSection}{Extra-Curricular Activities} \n",
    "\\begin{itemize}\n",
    "    \\item \tActively write \\href{https://www.faangpath.com/blog/}{blog posts} and social media posts (\\href{https://www.tiktok.com/@faangpath}{TikTok}, \\href{https://www.instagram.com/faangpath/?hl=en}{Instagram}) viewed by over 20K+ job seekers per week to help people with best practices to land their dream jobs. \n",
    "    \\item\tSample bullet point.\n",
    "\\end{itemize}\n",
    "\n",
    "\n",
    "\\end{rSection}\n",
    "\n",
    "%----------------------------------------------------------------------------------------\n",
    "\\begin{rSection}{Leadership} \n",
    "\\begin{itemize}\n",
    "    \\item Admin for the \\href{https://discord.com/invite/WWbjEaZ}{FAANGPath Discord community} with over 6000+ job seekers and industry mentors. Actively involved in facilitating online events, career conversations, and more alongside other admins and a team of volunteer moderators! \n",
    "\\end{itemize}\n",
    "\n",
    "\n",
    "\\end{rSection}\n",
    "\n",
    "\n",
    "\\end{document}\n",
    "\n",
    "\"\"\""
   ]
  },
  {
   "cell_type": "code",
   "execution_count": 44,
   "metadata": {},
   "outputs": [],
   "source": [
    "res  = llm_model.invoke(prompt.format(job_Description=jd3, matching_keywords=response.get(\"matching_keywords\") , resume_content=resume_content, template=latex_template )).content"
   ]
  },
  {
   "cell_type": "code",
   "execution_count": null,
   "metadata": {},
   "outputs": [],
   "source": [
    "print(res)"
   ]
  },
  {
   "cell_type": "code",
   "execution_count": null,
   "metadata": {},
   "outputs": [],
   "source": [
    "import subprocess\n",
    "import os\n",
    "\n",
    "def latex_to_pdf(latex_code, output_filename=\"output.pdf\"):\n",
    "    tex_filename = \"temp.tex\"\n",
    "    pdf_filename = output_filename\n",
    "    \n",
    "    # Write LaTeX code to a .tex file\n",
    "    with open(tex_filename, \"w\") as tex_file:\n",
    "        tex_file.write(latex_code)\n",
    "    \n",
    "    try:\n",
    "        # Compile the LaTeX file to PDF using pdflatex\n",
    "        subprocess.run([\"pdflatex\", \"-interaction=nonstopmode\", tex_filename], check=True, stdout=subprocess.DEVNULL, stderr=subprocess.DEVNULL)\n",
    "        \n",
    "        # Rename the generated PDF file\n",
    "        if os.path.exists(\"temp.pdf\"):\n",
    "            os.rename(\"temp.pdf\", pdf_filename)\n",
    "    \n",
    "    except subprocess.CalledProcessError as e:\n",
    "        print(\"Error: LaTeX compilation failed.\")\n",
    "    \n",
    "    finally:\n",
    "        # Clean up auxiliary files\n",
    "        for ext in [\"aux\", \"log\", \"tex\"]:\n",
    "            try:\n",
    "                os.remove(f\"temp.{ext}\")\n",
    "            except FileNotFoundError:\n",
    "                pass\n",
    "\n",
    "    return pdf_filename if os.path.exists(pdf_filename) else None\n",
    "\n",
    "# Example usage:\n",
    "latex_code = \"\"\"\n",
    "\\documentclass{article}\n",
    "\\begin{document}\n",
    "Hello, this is a LaTeX document compiled to PDF using Python!\n",
    "\\end{document}\n",
    "\"\"\"\n",
    "\n",
    "pdf_file = latex_to_pdf(latex_code, \"output.pdf\")\n",
    "if pdf_file:\n",
    "    print(f\"PDF successfully created: {pdf_file}\")\n",
    "else:\n",
    "    print(\"PDF generation failed.\")\n"
   ]
  },
  {
   "cell_type": "code",
   "execution_count": 1,
   "metadata": {},
   "outputs": [],
   "source": [
    "from src.workflow import State\n",
    "from pathlib import Path\n",
    "jd3  = \"\"\"Introduction\n",
    "IBM Software infuses core business operations with intelligence—from machine learning to generative AI—to help make organizations more responsive, productive, and resilient. IBM Software helps clients put AI into action now to create real value with trust, speed, and confidence across digital labor, IT automation, application modernization, security, and sustainability. Critical to this is the ability to make use of all data, because AI is only as good as the data that fuels it. In most organizations data is spread across multiple clouds, on premises, in private datacenters, and at the edge. IBM’s AI and data platform scales and accelerates the impact of AI with trusted data, and provides leading capabilities to train, tune and deploy AI across business. IBM’s hybrid cloud platform is one of the most comprehensive and consistent approach to development, security, and operations across hybrid environments—a flexible foundation for leveraging data, wherever it resides, to extend AI deep into a business.\n",
    " \n",
    "\n",
    "Your role and responsibilities\n",
    "Design, develop, and optimize applications using Python or Go with a focus on AI and ML-driven functionalities. Work with frameworks like Langchain, Langgraph, and Langsmith to build advanced language processing solutions. Implement and manage Kubernetes operators to support scalable, distributed systems. Develop and enhance Retrieval-Augmented Generation (RAG) workflows, including optimization for performance and accuracy. Research, design, and implement Machine Learning, Deep Learning, and Neural Network models to solve complex problems. Apply advanced techniques in Natural Language Processing (NLP) to enhance system capabilities. Collaborate with cross-functional teams to integrate AI/ML solutions into existing products and platforms. Stay updated on the latest trends in AI/ML and cloud-native technologies to ensure the use of best practices.\n",
    "\n",
    "Required education\n",
    "Bachelor's Degree\n",
    "Preferred education\n",
    "Master's Degree\n",
    "Required technical and professional expertise\n",
    "2+ years of experience.\n",
    "Hands-on experience with Langchain, Langgraph, or Langsmith frameworks. \n",
    "Solid understanding of Kubernetes operators and their deployment. \n",
    "Strong expertise in Machine Learning, Deep Learning, and Neural Networks. \n",
    "Proficiency in Natural Language Processing (NLP) and related libraries. \n",
    "Knowledge of Retrieval-Augmented Generation (RAG) workflows and optimization techniques. \n",
    "Familiarity with cloud-native technologies and distributed systems. \n",
    "Excellent problem-solving skills, a collaborative mindset, and a passion for innovation.\n",
    "Preferred technical and professional experience\n",
    "Prior experience working in AI/ML model optimization or inference pipelines. \n",
    "Exposure to containerization tools such as Docker and orchestration platforms like Kubernetes. \n",
    "Familiarity with vector databases and hybrid search solutions.\n",
    "ABOUT BUSINESS UNIT\n",
    "IBM Software infuses core business operations with intelligence—from machine learning to generative AI—to help make organizations more responsive, productive, and resilient. IBM Software helps clients put AI into action now to create real value with trust, speed, and confidence across digital labor, IT automation, application modernization, security, and sustainability. Critical to this is the ability to make use of all data, because AI is only as good as the data that fuels it. In most organizations data is spread across multiple clouds, on premises, in private datacenters, and at the edge. IBM’s AI and data platform scales and accelerates the impact of AI with trusted data, and provides leading capabilities to train, tune and deploy AI across business. IBM’s hybrid cloud platform is one of the most comprehensive and consistent approach to development, security, and operations across hybrid environments—a flexible foundation for leveraging data, wherever it resides, to extend AI deep into a business.\n",
    "YOUR LIFE @ IBM\n",
    "In a world where technology never stands still, we understand that, dedication to our clients success, innovation that matters, and trust and personal responsibility in all our relationships, lives in what we do as IBMers as we strive to be the catalyst that makes the world work better.\n",
    "\n",
    "Being an IBMer means you’ll be able to learn and develop yourself and your career, you’ll be encouraged to be courageous and experiment everyday, all whilst having continuous trust and support in an environment where everyone can thrive whatever their personal or professional background.\n",
    "\n",
    " \n",
    "\n",
    "Our IBMers are growth minded, always staying curious, open to feedback and learning new information and skills to constantly transform themselves and our company. They are trusted to provide on-going feedback to help other IBMers grow, as well as collaborate with colleagues keeping in mind a team focused approach to include different perspectives to drive exceptional outcomes for our customers. The courage our IBMers have to make critical decisions everyday is essential to IBM becoming the catalyst for progress, always embracing challenges with resources they have to hand, a can-do attitude and always striving for an outcome focused approach within everything that they do.\n",
    "\n",
    " \n",
    "\n",
    "Are you ready to be an IBMer?\n",
    "\n",
    "ABOUT IBM\n",
    "IBM’s greatest invention is the IBMer. We believe that through the application of intelligence, reason and science, we can improve business, society and the human condition, bringing the power of an open hybrid cloud and AI strategy to life for our clients and partners around the world.\n",
    "\n",
    " \n",
    "\n",
    "Restlessly reinventing since 1911, we are not only one of the largest corporate organizations in the world, we’re also one of the biggest technology and consulting employers, with many of the Fortune 50 companies relying on the IBM Cloud to run their business. \n",
    "\n",
    " \n",
    "\n",
    "At IBM, we pride ourselves on being an early adopter of artificial intelligence, quantum computing and blockchain. Now it’s time for you to join us on our journey to being a responsible technology innovator and a force for good in the world.\n",
    "\n",
    "OTHER RELEVANT JOB DETAILS\n",
    "When applying to jobs of your interest, we recommend that you do so for those that match your experience and expertise. Our recruiters advise that you apply to not more than 3 roles in a year for the best candidate experience. For additional information about location requirements, please discuss with the recruiter following submission of your application.\"\"\"\n",
    "\n",
    "\n",
    "\n",
    "\n",
    "\n",
    "# Create a new state instance using the State class\n",
    "state = State(\n",
    "    job_description=jd3,\n",
    "    resume_file=Path(\"Aditya_Varpe_AI_Engineer_Resume (5).pdf\")\n",
    ")"
   ]
  },
  {
   "cell_type": "code",
   "execution_count": 2,
   "metadata": {},
   "outputs": [],
   "source": [
    "from src.agents import parser_agent\n",
    "parser_agent_response = parser_agent(state)"
   ]
  },
  {
   "cell_type": "code",
   "execution_count": 3,
   "metadata": {},
   "outputs": [
    {
     "data": {
      "text/plain": [
       "{'job_description': \"Introduction\\nIBM Software infuses core business operations with intelligence—from machine learning to generative AI—to help make organizations more responsive, productive, and resilient. IBM Software helps clients put AI into action now to create real value with trust, speed, and confidence across digital labor, IT automation, application modernization, security, and sustainability. Critical to this is the ability to make use of all data, because AI is only as good as the data that fuels it. In most organizations data is spread across multiple clouds, on premises, in private datacenters, and at the edge. IBM’s AI and data platform scales and accelerates the impact of AI with trusted data, and provides leading capabilities to train, tune and deploy AI across business. IBM’s hybrid cloud platform is one of the most comprehensive and consistent approach to development, security, and operations across hybrid environments—a flexible foundation for leveraging data, wherever it resides, to extend AI deep into a business.\\n \\n\\nYour role and responsibilities\\nDesign, develop, and optimize applications using Python or Go with a focus on AI and ML-driven functionalities. Work with frameworks like Langchain, Langgraph, and Langsmith to build advanced language processing solutions. Implement and manage Kubernetes operators to support scalable, distributed systems. Develop and enhance Retrieval-Augmented Generation (RAG) workflows, including optimization for performance and accuracy. Research, design, and implement Machine Learning, Deep Learning, and Neural Network models to solve complex problems. Apply advanced techniques in Natural Language Processing (NLP) to enhance system capabilities. Collaborate with cross-functional teams to integrate AI/ML solutions into existing products and platforms. Stay updated on the latest trends in AI/ML and cloud-native technologies to ensure the use of best practices.\\n\\nRequired education\\nBachelor's Degree\\nPreferred education\\nMaster's Degree\\nRequired technical and professional expertise\\n2+ years of experience.\\nHands-on experience with Langchain, Langgraph, or Langsmith frameworks. \\nSolid understanding of Kubernetes operators and their deployment. \\nStrong expertise in Machine Learning, Deep Learning, and Neural Networks. \\nProficiency in Natural Language Processing (NLP) and related libraries. \\nKnowledge of Retrieval-Augmented Generation (RAG) workflows and optimization techniques. \\nFamiliarity with cloud-native technologies and distributed systems. \\nExcellent problem-solving skills, a collaborative mindset, and a passion for innovation.\\nPreferred technical and professional experience\\nPrior experience working in AI/ML model optimization or inference pipelines. \\nExposure to containerization tools such as Docker and orchestration platforms like Kubernetes. \\nFamiliarity with vector databases and hybrid search solutions.\\nABOUT BUSINESS UNIT\\nIBM Software infuses core business operations with intelligence—from machine learning to generative AI—to help make organizations more responsive, productive, and resilient. IBM Software helps clients put AI into action now to create real value with trust, speed, and confidence across digital labor, IT automation, application modernization, security, and sustainability. Critical to this is the ability to make use of all data, because AI is only as good as the data that fuels it. In most organizations data is spread across multiple clouds, on premises, in private datacenters, and at the edge. IBM’s AI and data platform scales and accelerates the impact of AI with trusted data, and provides leading capabilities to train, tune and deploy AI across business. IBM’s hybrid cloud platform is one of the most comprehensive and consistent approach to development, security, and operations across hybrid environments—a flexible foundation for leveraging data, wherever it resides, to extend AI deep into a business.\\nYOUR LIFE @ IBM\\nIn a world where technology never stands still, we understand that, dedication to our clients success, innovation that matters, and trust and personal responsibility in all our relationships, lives in what we do as IBMers as we strive to be the catalyst that makes the world work better.\\n\\nBeing an IBMer means you’ll be able to learn and develop yourself and your career, you’ll be encouraged to be courageous and experiment everyday, all whilst having continuous trust and support in an environment where everyone can thrive whatever their personal or professional background.\\n\\n \\n\\nOur IBMers are growth minded, always staying curious, open to feedback and learning new information and skills to constantly transform themselves and our company. They are trusted to provide on-going feedback to help other IBMers grow, as well as collaborate with colleagues keeping in mind a team focused approach to include different perspectives to drive exceptional outcomes for our customers. The courage our IBMers have to make critical decisions everyday is essential to IBM becoming the catalyst for progress, always embracing challenges with resources they have to hand, a can-do attitude and always striving for an outcome focused approach within everything that they do.\\n\\n \\n\\nAre you ready to be an IBMer?\\n\\nABOUT IBM\\nIBM’s greatest invention is the IBMer. We believe that through the application of intelligence, reason and science, we can improve business, society and the human condition, bringing the power of an open hybrid cloud and AI strategy to life for our clients and partners around the world.\\n\\n \\n\\nRestlessly reinventing since 1911, we are not only one of the largest corporate organizations in the world, we’re also one of the biggest technology and consulting employers, with many of the Fortune 50 companies relying on the IBM Cloud to run their business. \\n\\n \\n\\nAt IBM, we pride ourselves on being an early adopter of artificial intelligence, quantum computing and blockchain. Now it’s time for you to join us on our journey to being a responsible technology innovator and a force for good in the world.\\n\\nOTHER RELEVANT JOB DETAILS\\nWhen applying to jobs of your interest, we recommend that you do so for those that match your experience and expertise. Our recruiters advise that you apply to not more than 3 roles in a year for the best candidate experience. For additional information about location requirements, please discuss with the recruiter following submission of your application.\",\n",
       " 'resume_file': PosixPath('Aditya_Varpe_AI_Engineer_Resume (5).pdf'),\n",
       " 'resume_content': 'Aditya Varpe\\nadi.varpe117@gmail.com | +91 8275200921\\n\\uf092github| \\uf08clinkedin\\nEXPERIENCE\\nIbind Systems Private Limited\\nJul 2024 - Present\\nAI Engineer\\nBengaluru, India\\n• Intelligent Document Management System: Orchestrated an Agentic Workflow using the LangGraph Frame-\\nwork to automate classification, summarization, and data extraction, improving document retrieval accuracy by\\n25%.\\n• Cross-Border Payment AI Solution: Developed an AI-driven fraud detection and compliance automation sys-\\ntem, reducing transaction processing time by 50%.\\n• Regulatory Compliance Automation: Developed a Retrieval-Augmented Generation (RAG) framework, utilizing\\ndata visualization tools to enhance interpretability of RBI guideline insights.\\n• Advanced OCR for Financial Documents: Leveraged fine-tuned Vision-Language Models with MLOps pipelines\\nfor seamless deployment and scalability.\\n• Anti-Money Laundering Detection (Neo4j GraphDB): Built a Neo4j graph database for AML investigations,\\nimproving fraud detection accuracy by 40% through graph-based analytics.\\n• Automated Financial Reporting: Created a finance report generator, integrating dynamic web-based data\\nretrieval and custom inputs to deliver actionable financial insights.\\nDeng Infotech Solutions Pvt. Ltd.\\nJan 2024 - Jun 2024\\nMachine Learning Intern\\nBhopal, India\\n• Developed ML models for intrusion detection and fire alarm systems.\\n• Implemented BERT-based NLP models for academic document classification, achieving 88% accuracy across\\nmultiple research domains.\\n• Built and maintained reusable data integration programs in Python, implementing best practices for code effi-\\nciency and documentation.\\nSKILLS\\nAI Technologies\\nData Cleansing | EDA | Predictive Modeling | Prescriptive Modeling | Machine Learning | Deep Learning |\\nGenerative AI | Agentic AI (LangGraph, CrewAI) | NLP | LLMs | Fine-Tuning LLMs | RAG | Computer Vision\\nTools & Frameworks\\nTensorFlow | PyTorch | scikit-learn | Flask | FastAPI | Docker | Git | GitHub | CI/CD\\nCloud Services\\nAWS | Azure | GCP\\nDatabases\\nMySQL | MongoDB | Vector DB (Pinecone, ChromaDB) | Graph DB (Neo4j)\\nProgramming\\nPython\\nPROȷECTS\\nAI-Powered Banking Assistant | (link)\\n2024\\nTools: Open Source LLM, Groq API (Llama 2), Hugging Face Transformers\\n• Developed AI-powered banking assistant using NLP for smarter interactions and automation.\\n• Enhanced customer support, streamlined operations, and improved user experience in Banking.\\nRoad Safety Sign Detection | (link)\\n2023\\nTools: YOLOv8, TensorFlow, Computer Vision\\n• Implemented a vision-based system for real-time road sign detection, targeting the improvement of road safety\\nand traffic management.\\n• Optimized model for deployment, reducing inference time to 150ms while maintaining detection accuracy.\\nEDUCATION\\nBachelor of Technology (B.Tech) - Artificial Intelligence\\nJun 2020 - Jun 2024\\nG. H. Raisoni College of Engineering and Management\\nPune, India\\nCGPA: 8.79\\nHonors in Data Science\\nJun 2022 - May 2024\\nSavitribai Phule Pune University (SPPU)\\nPune, India\\nCGPA: 8.5\\nCERTIFICATIONS\\n• Neo4j Fundamentals (Neo4j)\\n• SQL Basic & Intermediate (HackerRank)\\n• Python Essentials for MLOps (Coursera)\\n• Certified Peer Counsellor (GHRCEM, Pune)\\n',\n",
       " 'score_and_details': {'company_name': 'IBM',\n",
       "  'job_ID': 'null',\n",
       "  'job_description_match_score': 85,\n",
       "  'missing_keywords': 'Go programming language, Langsmith framework, Hybrid Search Solutions, Vector Databases',\n",
       "  'matching_keywords': 'AI, Machine Learning, Deep Learning, Natural Language Processing, Langchain, Langgraph, Kubernetes, Cloud Native Technologies',\n",
       "  'resume_edit_suggestions': 'To improve the resume, consider adding experience with the Go programming language, Langsmith framework, and hybrid search solutions. Additionally, highlighting knowledge of vector databases and containerization tools like Docker would be beneficial. Emphasize expertise in AI/ML model optimization and inference pipelines, as well as experience with cloud-native technologies and distributed systems.'}}"
      ]
     },
     "execution_count": 3,
     "metadata": {},
     "output_type": "execute_result"
    }
   ],
   "source": [
    "parser_agent_response"
   ]
  },
  {
   "cell_type": "code",
   "execution_count": null,
   "metadata": {},
   "outputs": [],
   "source": [
    "def cold_mail_writer_agnet(state):\n",
    "    job"
   ]
  }
 ],
 "metadata": {
  "language_info": {
   "name": "python"
  }
 },
 "nbformat": 4,
 "nbformat_minor": 2
}
